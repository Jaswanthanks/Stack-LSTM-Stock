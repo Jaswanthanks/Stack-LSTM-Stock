{
 "cells": [
  {
   "cell_type": "code",
   "execution_count": 2,
   "id": "bdc03356",
   "metadata": {},
   "outputs": [],
   "source": [
    "import pandas_datareader as pdr"
   ]
  },
  {
   "cell_type": "code",
   "execution_count": 10,
   "id": "f85c72d6",
   "metadata": {
    "scrolled": true
   },
   "outputs": [],
   "source": [
    "df = pdr.get_data_tiingo('GOOG', api_key=key)\n",
    "import warnings\n",
    "warnings.filterwarnings(\"ignore\")"
   ]
  },
  {
   "cell_type": "code",
   "execution_count": 11,
   "id": "495ce967",
   "metadata": {},
   "outputs": [],
   "source": [
    "df.to_csv('GOOG.csv')"
   ]
  },
  {
   "cell_type": "code",
   "execution_count": 12,
   "id": "a8c82d6c",
   "metadata": {},
   "outputs": [],
   "source": [
    "import pandas as pd"
   ]
  },
  {
   "cell_type": "code",
   "execution_count": 13,
   "id": "cf2211fb",
   "metadata": {},
   "outputs": [
    {
     "data": {
      "text/html": [
       "<div>\n",
       "<style scoped>\n",
       "    .dataframe tbody tr th:only-of-type {\n",
       "        vertical-align: middle;\n",
       "    }\n",
       "\n",
       "    .dataframe tbody tr th {\n",
       "        vertical-align: top;\n",
       "    }\n",
       "\n",
       "    .dataframe thead th {\n",
       "        text-align: right;\n",
       "    }\n",
       "</style>\n",
       "<table border=\"1\" class=\"dataframe\">\n",
       "  <thead>\n",
       "    <tr style=\"text-align: right;\">\n",
       "      <th></th>\n",
       "      <th>symbol</th>\n",
       "      <th>date</th>\n",
       "      <th>close</th>\n",
       "      <th>high</th>\n",
       "      <th>low</th>\n",
       "      <th>open</th>\n",
       "      <th>volume</th>\n",
       "      <th>adjClose</th>\n",
       "      <th>adjHigh</th>\n",
       "      <th>adjLow</th>\n",
       "      <th>adjOpen</th>\n",
       "      <th>adjVolume</th>\n",
       "      <th>divCash</th>\n",
       "      <th>splitFactor</th>\n",
       "    </tr>\n",
       "  </thead>\n",
       "  <tbody>\n",
       "    <tr>\n",
       "      <th>0</th>\n",
       "      <td>GOOG</td>\n",
       "      <td>2019-02-26 00:00:00+00:00</td>\n",
       "      <td>1115.13</td>\n",
       "      <td>1119.5100</td>\n",
       "      <td>1099.92</td>\n",
       "      <td>1105.75</td>\n",
       "      <td>1471743</td>\n",
       "      <td>55.7565</td>\n",
       "      <td>55.9755</td>\n",
       "      <td>54.9960</td>\n",
       "      <td>55.2875</td>\n",
       "      <td>29434860</td>\n",
       "      <td>0.0</td>\n",
       "      <td>1.0</td>\n",
       "    </tr>\n",
       "    <tr>\n",
       "      <th>1</th>\n",
       "      <td>GOOG</td>\n",
       "      <td>2019-02-27 00:00:00+00:00</td>\n",
       "      <td>1116.05</td>\n",
       "      <td>1117.9800</td>\n",
       "      <td>1101.00</td>\n",
       "      <td>1106.95</td>\n",
       "      <td>968760</td>\n",
       "      <td>55.8025</td>\n",
       "      <td>55.8990</td>\n",
       "      <td>55.0500</td>\n",
       "      <td>55.3475</td>\n",
       "      <td>19375200</td>\n",
       "      <td>0.0</td>\n",
       "      <td>1.0</td>\n",
       "    </tr>\n",
       "    <tr>\n",
       "      <th>2</th>\n",
       "      <td>GOOG</td>\n",
       "      <td>2019-02-28 00:00:00+00:00</td>\n",
       "      <td>1119.92</td>\n",
       "      <td>1127.6500</td>\n",
       "      <td>1111.01</td>\n",
       "      <td>1111.30</td>\n",
       "      <td>1542609</td>\n",
       "      <td>55.9960</td>\n",
       "      <td>56.3825</td>\n",
       "      <td>55.5505</td>\n",
       "      <td>55.5650</td>\n",
       "      <td>30852180</td>\n",
       "      <td>0.0</td>\n",
       "      <td>1.0</td>\n",
       "    </tr>\n",
       "    <tr>\n",
       "      <th>3</th>\n",
       "      <td>GOOG</td>\n",
       "      <td>2019-03-01 00:00:00+00:00</td>\n",
       "      <td>1140.99</td>\n",
       "      <td>1142.9700</td>\n",
       "      <td>1124.75</td>\n",
       "      <td>1124.90</td>\n",
       "      <td>1450316</td>\n",
       "      <td>57.0495</td>\n",
       "      <td>57.1485</td>\n",
       "      <td>56.2375</td>\n",
       "      <td>56.2450</td>\n",
       "      <td>29006320</td>\n",
       "      <td>0.0</td>\n",
       "      <td>1.0</td>\n",
       "    </tr>\n",
       "    <tr>\n",
       "      <th>4</th>\n",
       "      <td>GOOG</td>\n",
       "      <td>2019-03-04 00:00:00+00:00</td>\n",
       "      <td>1147.80</td>\n",
       "      <td>1158.2800</td>\n",
       "      <td>1130.69</td>\n",
       "      <td>1146.99</td>\n",
       "      <td>1446047</td>\n",
       "      <td>57.3900</td>\n",
       "      <td>57.9140</td>\n",
       "      <td>56.5345</td>\n",
       "      <td>57.3495</td>\n",
       "      <td>28920940</td>\n",
       "      <td>0.0</td>\n",
       "      <td>1.0</td>\n",
       "    </tr>\n",
       "    <tr>\n",
       "      <th>...</th>\n",
       "      <td>...</td>\n",
       "      <td>...</td>\n",
       "      <td>...</td>\n",
       "      <td>...</td>\n",
       "      <td>...</td>\n",
       "      <td>...</td>\n",
       "      <td>...</td>\n",
       "      <td>...</td>\n",
       "      <td>...</td>\n",
       "      <td>...</td>\n",
       "      <td>...</td>\n",
       "      <td>...</td>\n",
       "      <td>...</td>\n",
       "      <td>...</td>\n",
       "    </tr>\n",
       "    <tr>\n",
       "      <th>1253</th>\n",
       "      <td>GOOG</td>\n",
       "      <td>2024-02-16 00:00:00+00:00</td>\n",
       "      <td>141.76</td>\n",
       "      <td>144.4800</td>\n",
       "      <td>141.52</td>\n",
       "      <td>144.21</td>\n",
       "      <td>21865118</td>\n",
       "      <td>141.7600</td>\n",
       "      <td>144.4800</td>\n",
       "      <td>141.5200</td>\n",
       "      <td>144.2100</td>\n",
       "      <td>21865118</td>\n",
       "      <td>0.0</td>\n",
       "      <td>1.0</td>\n",
       "    </tr>\n",
       "    <tr>\n",
       "      <th>1254</th>\n",
       "      <td>GOOG</td>\n",
       "      <td>2024-02-20 00:00:00+00:00</td>\n",
       "      <td>142.20</td>\n",
       "      <td>143.3285</td>\n",
       "      <td>140.80</td>\n",
       "      <td>140.94</td>\n",
       "      <td>18625589</td>\n",
       "      <td>142.2000</td>\n",
       "      <td>143.3285</td>\n",
       "      <td>140.8000</td>\n",
       "      <td>140.9400</td>\n",
       "      <td>18625589</td>\n",
       "      <td>0.0</td>\n",
       "      <td>1.0</td>\n",
       "    </tr>\n",
       "    <tr>\n",
       "      <th>1255</th>\n",
       "      <td>GOOG</td>\n",
       "      <td>2024-02-21 00:00:00+00:00</td>\n",
       "      <td>143.84</td>\n",
       "      <td>143.9800</td>\n",
       "      <td>141.91</td>\n",
       "      <td>142.64</td>\n",
       "      <td>16499584</td>\n",
       "      <td>143.8400</td>\n",
       "      <td>143.9800</td>\n",
       "      <td>141.9100</td>\n",
       "      <td>142.6400</td>\n",
       "      <td>16499584</td>\n",
       "      <td>0.0</td>\n",
       "      <td>1.0</td>\n",
       "    </tr>\n",
       "    <tr>\n",
       "      <th>1256</th>\n",
       "      <td>GOOG</td>\n",
       "      <td>2024-02-22 00:00:00+00:00</td>\n",
       "      <td>145.32</td>\n",
       "      <td>146.2000</td>\n",
       "      <td>144.01</td>\n",
       "      <td>146.12</td>\n",
       "      <td>23024707</td>\n",
       "      <td>145.3200</td>\n",
       "      <td>146.2000</td>\n",
       "      <td>144.0100</td>\n",
       "      <td>146.1200</td>\n",
       "      <td>23024707</td>\n",
       "      <td>0.0</td>\n",
       "      <td>1.0</td>\n",
       "    </tr>\n",
       "    <tr>\n",
       "      <th>1257</th>\n",
       "      <td>GOOG</td>\n",
       "      <td>2024-02-23 00:00:00+00:00</td>\n",
       "      <td>145.29</td>\n",
       "      <td>145.9550</td>\n",
       "      <td>144.79</td>\n",
       "      <td>144.97</td>\n",
       "      <td>14519434</td>\n",
       "      <td>145.2900</td>\n",
       "      <td>145.9550</td>\n",
       "      <td>144.7900</td>\n",
       "      <td>144.9700</td>\n",
       "      <td>14519434</td>\n",
       "      <td>0.0</td>\n",
       "      <td>1.0</td>\n",
       "    </tr>\n",
       "  </tbody>\n",
       "</table>\n",
       "<p>1258 rows × 14 columns</p>\n",
       "</div>"
      ],
      "text/plain": [
       "     symbol                       date    close       high      low     open  \\\n",
       "0      GOOG  2019-02-26 00:00:00+00:00  1115.13  1119.5100  1099.92  1105.75   \n",
       "1      GOOG  2019-02-27 00:00:00+00:00  1116.05  1117.9800  1101.00  1106.95   \n",
       "2      GOOG  2019-02-28 00:00:00+00:00  1119.92  1127.6500  1111.01  1111.30   \n",
       "3      GOOG  2019-03-01 00:00:00+00:00  1140.99  1142.9700  1124.75  1124.90   \n",
       "4      GOOG  2019-03-04 00:00:00+00:00  1147.80  1158.2800  1130.69  1146.99   \n",
       "...     ...                        ...      ...        ...      ...      ...   \n",
       "1253   GOOG  2024-02-16 00:00:00+00:00   141.76   144.4800   141.52   144.21   \n",
       "1254   GOOG  2024-02-20 00:00:00+00:00   142.20   143.3285   140.80   140.94   \n",
       "1255   GOOG  2024-02-21 00:00:00+00:00   143.84   143.9800   141.91   142.64   \n",
       "1256   GOOG  2024-02-22 00:00:00+00:00   145.32   146.2000   144.01   146.12   \n",
       "1257   GOOG  2024-02-23 00:00:00+00:00   145.29   145.9550   144.79   144.97   \n",
       "\n",
       "        volume  adjClose   adjHigh    adjLow   adjOpen  adjVolume  divCash  \\\n",
       "0      1471743   55.7565   55.9755   54.9960   55.2875   29434860      0.0   \n",
       "1       968760   55.8025   55.8990   55.0500   55.3475   19375200      0.0   \n",
       "2      1542609   55.9960   56.3825   55.5505   55.5650   30852180      0.0   \n",
       "3      1450316   57.0495   57.1485   56.2375   56.2450   29006320      0.0   \n",
       "4      1446047   57.3900   57.9140   56.5345   57.3495   28920940      0.0   \n",
       "...        ...       ...       ...       ...       ...        ...      ...   \n",
       "1253  21865118  141.7600  144.4800  141.5200  144.2100   21865118      0.0   \n",
       "1254  18625589  142.2000  143.3285  140.8000  140.9400   18625589      0.0   \n",
       "1255  16499584  143.8400  143.9800  141.9100  142.6400   16499584      0.0   \n",
       "1256  23024707  145.3200  146.2000  144.0100  146.1200   23024707      0.0   \n",
       "1257  14519434  145.2900  145.9550  144.7900  144.9700   14519434      0.0   \n",
       "\n",
       "      splitFactor  \n",
       "0             1.0  \n",
       "1             1.0  \n",
       "2             1.0  \n",
       "3             1.0  \n",
       "4             1.0  \n",
       "...           ...  \n",
       "1253          1.0  \n",
       "1254          1.0  \n",
       "1255          1.0  \n",
       "1256          1.0  \n",
       "1257          1.0  \n",
       "\n",
       "[1258 rows x 14 columns]"
      ]
     },
     "execution_count": 13,
     "metadata": {},
     "output_type": "execute_result"
    }
   ],
   "source": [
    "df = pd.read_csv('GOOG.csv')\n",
    "df"
   ]
  },
  {
   "cell_type": "code",
   "execution_count": 14,
   "id": "273c7abc",
   "metadata": {},
   "outputs": [],
   "source": [
    "df1 = df.reset_index()['close']"
   ]
  },
  {
   "cell_type": "code",
   "execution_count": 15,
   "id": "784c7791",
   "metadata": {},
   "outputs": [
    {
     "data": {
      "text/plain": [
       "(1258, 14)"
      ]
     },
     "execution_count": 15,
     "metadata": {},
     "output_type": "execute_result"
    }
   ],
   "source": [
    "df.shape"
   ]
  },
  {
   "cell_type": "code",
   "execution_count": 16,
   "id": "7fb55f77",
   "metadata": {},
   "outputs": [
    {
     "data": {
      "text/html": [
       "<div>\n",
       "<style scoped>\n",
       "    .dataframe tbody tr th:only-of-type {\n",
       "        vertical-align: middle;\n",
       "    }\n",
       "\n",
       "    .dataframe tbody tr th {\n",
       "        vertical-align: top;\n",
       "    }\n",
       "\n",
       "    .dataframe thead th {\n",
       "        text-align: right;\n",
       "    }\n",
       "</style>\n",
       "<table border=\"1\" class=\"dataframe\">\n",
       "  <thead>\n",
       "    <tr style=\"text-align: right;\">\n",
       "      <th></th>\n",
       "      <th>symbol</th>\n",
       "      <th>date</th>\n",
       "      <th>close</th>\n",
       "      <th>high</th>\n",
       "      <th>low</th>\n",
       "      <th>open</th>\n",
       "      <th>volume</th>\n",
       "      <th>adjClose</th>\n",
       "      <th>adjHigh</th>\n",
       "      <th>adjLow</th>\n",
       "      <th>adjOpen</th>\n",
       "      <th>adjVolume</th>\n",
       "      <th>divCash</th>\n",
       "      <th>splitFactor</th>\n",
       "    </tr>\n",
       "  </thead>\n",
       "  <tbody>\n",
       "    <tr>\n",
       "      <th>1228</th>\n",
       "      <td>GOOG</td>\n",
       "      <td>2024-01-11 00:00:00+00:00</td>\n",
       "      <td>143.67</td>\n",
       "      <td>146.660</td>\n",
       "      <td>142.2150</td>\n",
       "      <td>144.895</td>\n",
       "      <td>17471130</td>\n",
       "      <td>143.67</td>\n",
       "      <td>146.660</td>\n",
       "      <td>142.2150</td>\n",
       "      <td>144.895</td>\n",
       "      <td>17471130</td>\n",
       "      <td>0.0</td>\n",
       "      <td>1.0</td>\n",
       "    </tr>\n",
       "    <tr>\n",
       "      <th>1229</th>\n",
       "      <td>GOOG</td>\n",
       "      <td>2024-01-12 00:00:00+00:00</td>\n",
       "      <td>144.24</td>\n",
       "      <td>144.740</td>\n",
       "      <td>143.3600</td>\n",
       "      <td>144.340</td>\n",
       "      <td>13998729</td>\n",
       "      <td>144.24</td>\n",
       "      <td>144.740</td>\n",
       "      <td>143.3600</td>\n",
       "      <td>144.340</td>\n",
       "      <td>13998729</td>\n",
       "      <td>0.0</td>\n",
       "      <td>1.0</td>\n",
       "    </tr>\n",
       "    <tr>\n",
       "      <th>1230</th>\n",
       "      <td>GOOG</td>\n",
       "      <td>2024-01-16 00:00:00+00:00</td>\n",
       "      <td>144.08</td>\n",
       "      <td>145.840</td>\n",
       "      <td>143.0564</td>\n",
       "      <td>143.430</td>\n",
       "      <td>19198939</td>\n",
       "      <td>144.08</td>\n",
       "      <td>145.840</td>\n",
       "      <td>143.0564</td>\n",
       "      <td>143.430</td>\n",
       "      <td>19198939</td>\n",
       "      <td>0.0</td>\n",
       "      <td>1.0</td>\n",
       "    </tr>\n",
       "    <tr>\n",
       "      <th>1231</th>\n",
       "      <td>GOOG</td>\n",
       "      <td>2024-01-17 00:00:00+00:00</td>\n",
       "      <td>142.89</td>\n",
       "      <td>143.410</td>\n",
       "      <td>140.5100</td>\n",
       "      <td>142.910</td>\n",
       "      <td>17884548</td>\n",
       "      <td>142.89</td>\n",
       "      <td>143.410</td>\n",
       "      <td>140.5100</td>\n",
       "      <td>142.910</td>\n",
       "      <td>17884548</td>\n",
       "      <td>0.0</td>\n",
       "      <td>1.0</td>\n",
       "    </tr>\n",
       "    <tr>\n",
       "      <th>1232</th>\n",
       "      <td>GOOG</td>\n",
       "      <td>2024-01-18 00:00:00+00:00</td>\n",
       "      <td>144.99</td>\n",
       "      <td>145.585</td>\n",
       "      <td>143.3500</td>\n",
       "      <td>143.440</td>\n",
       "      <td>18876800</td>\n",
       "      <td>144.99</td>\n",
       "      <td>145.585</td>\n",
       "      <td>143.3500</td>\n",
       "      <td>143.440</td>\n",
       "      <td>18876800</td>\n",
       "      <td>0.0</td>\n",
       "      <td>1.0</td>\n",
       "    </tr>\n",
       "  </tbody>\n",
       "</table>\n",
       "</div>"
      ],
      "text/plain": [
       "     symbol                       date   close     high       low     open  \\\n",
       "1228   GOOG  2024-01-11 00:00:00+00:00  143.67  146.660  142.2150  144.895   \n",
       "1229   GOOG  2024-01-12 00:00:00+00:00  144.24  144.740  143.3600  144.340   \n",
       "1230   GOOG  2024-01-16 00:00:00+00:00  144.08  145.840  143.0564  143.430   \n",
       "1231   GOOG  2024-01-17 00:00:00+00:00  142.89  143.410  140.5100  142.910   \n",
       "1232   GOOG  2024-01-18 00:00:00+00:00  144.99  145.585  143.3500  143.440   \n",
       "\n",
       "        volume  adjClose  adjHigh    adjLow  adjOpen  adjVolume  divCash  \\\n",
       "1228  17471130    143.67  146.660  142.2150  144.895   17471130      0.0   \n",
       "1229  13998729    144.24  144.740  143.3600  144.340   13998729      0.0   \n",
       "1230  19198939    144.08  145.840  143.0564  143.430   19198939      0.0   \n",
       "1231  17884548    142.89  143.410  140.5100  142.910   17884548      0.0   \n",
       "1232  18876800    144.99  145.585  143.3500  143.440   18876800      0.0   \n",
       "\n",
       "      splitFactor  \n",
       "1228          1.0  \n",
       "1229          1.0  \n",
       "1230          1.0  \n",
       "1231          1.0  \n",
       "1232          1.0  "
      ]
     },
     "execution_count": 16,
     "metadata": {},
     "output_type": "execute_result"
    }
   ],
   "source": [
    "df[1228:].head()"
   ]
  },
  {
   "cell_type": "code",
   "execution_count": 17,
   "id": "a9deb9b5",
   "metadata": {},
   "outputs": [
    {
     "data": {
      "text/plain": [
       "[<matplotlib.lines.Line2D at 0x113261bf1d0>]"
      ]
     },
     "execution_count": 17,
     "metadata": {},
     "output_type": "execute_result"
    },
    {
     "data": {
      "image/png": "[encoded data removed]",
      "text/plain": [
       "<Figure size 640x480 with 1 Axes>"
      ]
     },
     "metadata": {},
     "output_type": "display_data"
    }
   ],
   "source": [
    "import matplotlib.pyplot as plt\n",
    "plt.plot(df1)"
   ]
  },
  {
   "cell_type": "markdown",
   "id": "6644827f",
   "metadata": {},
   "source": [
    "LSTM are sensitive to the scale of the data , so we apply MiniMax scaler"
   ]
  },
  {
   "cell_type": "code",
   "execution_count": 18,
   "id": "1d3b92bf",
   "metadata": {},
   "outputs": [],
   "source": [
    "import numpy as np"
   ]
  },
  {
   "cell_type": "code",
   "execution_count": 19,
   "id": "4f7fd21d",
   "metadata": {},
   "outputs": [],
   "source": [
    "from sklearn.preprocessing import MinMaxScaler\n",
    "scaler = MinMaxScaler(feature_range = (0,1))\n",
    "df1 = scaler.fit_transform(np.array(df1).reshape(-1,1))"
   ]
  },
  {
   "cell_type": "code",
   "execution_count": 20,
   "id": "b6a5c82e",
   "metadata": {},
   "outputs": [
    {
     "data": {
      "text/plain": [
       "(1258, 1)"
      ]
     },
     "execution_count": 20,
     "metadata": {},
     "output_type": "execute_result"
    }
   ],
   "source": [
    "df1.shape"
   ]
  },
  {
   "cell_type": "code",
   "execution_count": 21,
   "id": "176a3e82",
   "metadata": {},
   "outputs": [
    {
     "data": {
      "text/plain": [
       "array([[0.35201267],\n",
       "       [0.35232659],\n",
       "       [0.35364709],\n",
       "       ...,\n",
       "       [0.02059242],\n",
       "       [0.02109742],\n",
       "       [0.02108718]])"
      ]
     },
     "execution_count": 21,
     "metadata": {},
     "output_type": "execute_result"
    }
   ],
   "source": [
    "df1"
   ]
  },
  {
   "cell_type": "markdown",
   "id": "eb9190ae",
   "metadata": {},
   "source": [
    "                           SPLITTING THE DATASET INTO TRAIN AND TEST DATA"
   ]
  },
  {
   "cell_type": "code",
   "execution_count": 22,
   "id": "25a8b6d7",
   "metadata": {},
   "outputs": [],
   "source": [
    "from sklearn.model_selection import train_test_split\n",
    "training_set = int(len(df1)*0.65)\n",
    "test_set = len(df1) - training_set\n",
    "train_data , test_data = df1[0:training_set,:] , df1[training_set:len(df1):]"
   ]
  },
  {
   "cell_type": "code",
   "execution_count": 23,
   "id": "4c9ea6e2",
   "metadata": {},
   "outputs": [],
   "source": [
    "import numpy \n",
    "def create_dataset(dataset,time_step = 1):\n",
    "    dataX,dataY = [],[]\n",
    "    for i in range(len(dataset)-time_step-1):\n",
    "        a = dataset[i:(i+time_step),0]\n",
    "        dataX.append(a)\n",
    "        dataY.append(dataset[i+time_step,0])\n",
    "    return numpy.array(dataX),numpy.array(dataY)"
   ]
  },
  {
   "cell_type": "code",
   "execution_count": 24,
   "id": "3863e0ba",
   "metadata": {},
   "outputs": [],
   "source": [
    "time_step = 100\n",
    "X_train , y_train = create_dataset(train_data , time_step)\n",
    "X_test , y_test = create_dataset(test_data , time_step)"
   ]
  },
  {
   "cell_type": "code",
   "execution_count": 25,
   "id": "6c0c0d5b",
   "metadata": {},
   "outputs": [
    {
     "name": "stdout",
     "output_type": "stream",
     "text": [
      "(716, 100)\n",
      "(716,)\n"
     ]
    },
    {
     "data": {
      "text/plain": [
       "(None, None)"
      ]
     },
     "execution_count": 25,
     "metadata": {},
     "output_type": "execute_result"
    }
   ],
   "source": [
    "print(X_train.shape) , print(y_train.shape)"
   ]
  },
  {
   "cell_type": "code",
   "execution_count": 26,
   "id": "8f40e3e1",
   "metadata": {},
   "outputs": [
    {
     "name": "stdout",
     "output_type": "stream",
     "text": [
      "(340, 100)\n",
      "(340,)\n"
     ]
    },
    {
     "data": {
      "text/plain": [
       "(None, None)"
      ]
     },
     "execution_count": 26,
     "metadata": {},
     "output_type": "execute_result"
    }
   ],
   "source": [
    "print(X_test.shape) , print(y_test.shape)"
   ]
  },
  {
   "cell_type": "markdown",
   "id": "6672cf9b",
   "metadata": {},
   "source": [
    "X_train =X_train.reshape(X_train.shape[0] , X_train.shape[1],1)\n",
    "X_test =X_test.reshape(X_test.shape[0] , X_test.shape[1],1)"
   ]
  },
  {
   "cell_type": "markdown",
   "id": "e7de0abb",
   "metadata": {},
   "source": [
    "                                         STACK LSTM MODEL"
   ]
  },
  {
   "cell_type": "code",
   "execution_count": 27,
   "id": "ad4ad87e",
   "metadata": {},
   "outputs": [
    {
     "name": "stdout",
     "output_type": "stream",
     "text": [
      "WARNING:tensorflow:From C:\\Users\\User\\anaconda3\\Lib\\site-packages\\keras\\src\\losses.py:2976: The name tf.losses.sparse_softmax_cross_entropy is deprecated. Please use tf.compat.v1.losses.sparse_softmax_cross_entropy instead.\n",
      "\n"
     ]
    }
   ],
   "source": [
    "from tensorflow.keras.models import Sequential\n",
    "from tensorflow.keras.layers import Dense\n",
    "from tensorflow.keras.layers import LSTM"
   ]
  },
  {
   "cell_type": "code",
   "execution_count": 28,
   "id": "251ddd20",
   "metadata": {},
   "outputs": [
    {
     "name": "stdout",
     "output_type": "stream",
     "text": [
      "WARNING:tensorflow:From C:\\Users\\User\\anaconda3\\Lib\\site-packages\\keras\\src\\backend.py:873: The name tf.get_default_graph is deprecated. Please use tf.compat.v1.get_default_graph instead.\n",
      "\n",
      "WARNING:tensorflow:From C:\\Users\\User\\anaconda3\\Lib\\site-packages\\keras\\src\\optimizers\\__init__.py:309: The name tf.train.Optimizer is deprecated. Please use tf.compat.v1.train.Optimizer instead.\n",
      "\n"
     ]
    }
   ],
   "source": [
    "model = Sequential()\n",
    "model.add(LSTM(50,return_sequences = True , input_shape=(100,1)))\n",
    "model.add(LSTM(50,return_sequences = True))\n",
    "model.add(LSTM(50))\n",
    "model.add(Dense(1))\n",
    "model.compile(loss = 'mean_squared_error',optimizer = 'adam')"
   ]
  },
  {
   "cell_type": "markdown",
   "id": "f0d10c79",
   "metadata": {},
   "source": [
    "                                          OPTIMIZERS"
   ]
  },
  {
   "cell_type": "markdown",
   "id": "e14a5532",
   "metadata": {},
   "source": [
    "SGD(stochastic gradient descent) : update model weights based on the gradients of the loss function \n"
   ]
  },
  {
   "cell_type": "markdown",
   "id": "effa2e5c",
   "metadata": {},
   "source": [
    "Adam : combination of both ADAGRAD and RMSprop\n"
   ]
  },
  {
   "cell_type": "markdown",
   "id": "6ff11464",
   "metadata": {},
   "source": [
    "RMSprop : utilizes the moving average of squared gradients for normalizing the gradient descent "
   ]
  },
  {
   "cell_type": "markdown",
   "id": "59a11f86",
   "metadata": {},
   "source": [
    "Adadelta : extension of AdaGrad that adapts learning rates based on a fixed-size window of previous gradient updates.\n"
   ]
  },
  {
   "cell_type": "markdown",
   "id": "bfe6af5c",
   "metadata": {},
   "source": [
    "Adamax: A variant of Adam based on the infinity norm."
   ]
  },
  {
   "cell_type": "code",
   "execution_count": 29,
   "id": "72b236de",
   "metadata": {},
   "outputs": [
    {
     "name": "stdout",
     "output_type": "stream",
     "text": [
      "Model: \"sequential\"\n",
      "_________________________________________________________________\n",
      " Layer (type)                Output Shape              Param #   \n",
      "=================================================================\n",
      " lstm (LSTM)                 (None, 100, 50)           10400     \n",
      "                                                                 \n",
      " lstm_1 (LSTM)               (None, 100, 50)           20200     \n",
      "                                                                 \n",
      " lstm_2 (LSTM)               (None, 50)                20200     \n",
      "                                                                 \n",
      " dense (Dense)               (None, 1)                 51        \n",
      "                                                                 \n",
      "=================================================================\n",
      "Total params: 50851 (198.64 KB)\n",
      "Trainable params: 50851 (198.64 KB)\n",
      "Non-trainable params: 0 (0.00 Byte)\n",
      "_________________________________________________________________\n"
     ]
    }
   ],
   "source": [
    "model.summary()"
   ]
  },
  {
   "cell_type": "code",
   "execution_count": 30,
   "id": "7fe57f3b",
   "metadata": {
    "scrolled": true
   },
   "outputs": [
    {
     "name": "stdout",
     "output_type": "stream",
     "text": [
      "Epoch 1/100\n",
      "WARNING:tensorflow:From C:\\Users\\User\\anaconda3\\Lib\\site-packages\\keras\\src\\utils\\tf_utils.py:492: The name tf.ragged.RaggedTensorValue is deprecated. Please use tf.compat.v1.ragged.RaggedTensorValue instead.\n",
      "\n",
      "12/12 [==============================] - 22s 649ms/step - loss: 0.1562 - val_loss: 0.0261\n",
      "Epoch 2/100\n",
      "12/12 [==============================] - 3s 225ms/step - loss: 0.0197 - val_loss: 0.0386\n",
      "Epoch 3/100\n",
      "12/12 [==============================] - 3s 246ms/step - loss: 0.0101 - val_loss: 0.0181\n",
      "Epoch 4/100\n",
      "12/12 [==============================] - 2s 193ms/step - loss: 0.0051 - val_loss: 0.0122\n",
      "Epoch 5/100\n",
      "12/12 [==============================] - 4s 338ms/step - loss: 0.0025 - val_loss: 0.0064\n",
      "Epoch 6/100\n",
      "12/12 [==============================] - 3s 275ms/step - loss: 0.0015 - val_loss: 0.0029\n",
      "Epoch 7/100\n",
      "12/12 [==============================] - 2s 193ms/step - loss: 0.0012 - val_loss: 0.0017\n",
      "Epoch 8/100\n",
      "12/12 [==============================] - 2s 180ms/step - loss: 0.0012 - val_loss: 0.0020\n",
      "Epoch 9/100\n",
      "12/12 [==============================] - 2s 183ms/step - loss: 0.0012 - val_loss: 0.0023\n",
      "Epoch 10/100\n",
      "12/12 [==============================] - 2s 175ms/step - loss: 0.0012 - val_loss: 0.0024\n",
      "Epoch 11/100\n",
      "12/12 [==============================] - 2s 173ms/step - loss: 0.0012 - val_loss: 0.0022\n",
      "Epoch 12/100\n",
      "12/12 [==============================] - 2s 185ms/step - loss: 0.0011 - val_loss: 0.0020\n",
      "Epoch 13/100\n",
      "12/12 [==============================] - 2s 198ms/step - loss: 0.0012 - val_loss: 0.0023\n",
      "Epoch 14/100\n",
      "12/12 [==============================] - 2s 185ms/step - loss: 0.0011 - val_loss: 0.0024\n",
      "Epoch 15/100\n",
      "12/12 [==============================] - 2s 178ms/step - loss: 0.0012 - val_loss: 0.0022\n",
      "Epoch 16/100\n",
      "12/12 [==============================] - 2s 177ms/step - loss: 0.0012 - val_loss: 0.0019\n",
      "Epoch 17/100\n",
      "12/12 [==============================] - 2s 188ms/step - loss: 0.0012 - val_loss: 0.0020\n",
      "Epoch 18/100\n",
      "12/12 [==============================] - 2s 180ms/step - loss: 0.0011 - val_loss: 0.0019\n",
      "Epoch 19/100\n",
      "12/12 [==============================] - 2s 176ms/step - loss: 0.0011 - val_loss: 0.0017\n",
      "Epoch 20/100\n",
      "12/12 [==============================] - 2s 187ms/step - loss: 0.0011 - val_loss: 0.0017\n",
      "Epoch 21/100\n",
      "12/12 [==============================] - 2s 195ms/step - loss: 0.0011 - val_loss: 0.0019\n",
      "Epoch 22/100\n",
      "12/12 [==============================] - 2s 191ms/step - loss: 0.0012 - val_loss: 0.0015\n",
      "Epoch 23/100\n",
      "12/12 [==============================] - 2s 204ms/step - loss: 0.0012 - val_loss: 0.0016\n",
      "Epoch 24/100\n",
      "12/12 [==============================] - 2s 200ms/step - loss: 0.0011 - val_loss: 0.0016\n",
      "Epoch 25/100\n",
      "12/12 [==============================] - 2s 191ms/step - loss: 0.0010 - val_loss: 0.0013\n",
      "Epoch 26/100\n",
      "12/12 [==============================] - 2s 184ms/step - loss: 0.0010 - val_loss: 0.0011\n",
      "Epoch 27/100\n",
      "12/12 [==============================] - 2s 199ms/step - loss: 0.0010 - val_loss: 0.0013\n",
      "Epoch 28/100\n",
      "12/12 [==============================] - 2s 204ms/step - loss: 9.7084e-04 - val_loss: 0.0011\n",
      "Epoch 29/100\n",
      "12/12 [==============================] - 2s 186ms/step - loss: 9.6200e-04 - val_loss: 8.4385e-04\n",
      "Epoch 30/100\n",
      "12/12 [==============================] - 2s 189ms/step - loss: 9.8265e-04 - val_loss: 9.0212e-04\n",
      "Epoch 31/100\n",
      "12/12 [==============================] - 2s 192ms/step - loss: 9.3825e-04 - val_loss: 8.6502e-04\n",
      "Epoch 32/100\n",
      "12/12 [==============================] - 2s 199ms/step - loss: 9.9820e-04 - val_loss: 8.3606e-04\n",
      "Epoch 33/100\n",
      "12/12 [==============================] - 2s 183ms/step - loss: 9.4623e-04 - val_loss: 6.8775e-04\n",
      "Epoch 34/100\n",
      "12/12 [==============================] - 3s 205ms/step - loss: 0.0010 - val_loss: 6.5667e-04\n",
      "Epoch 35/100\n",
      "12/12 [==============================] - 3s 205ms/step - loss: 9.2066e-04 - val_loss: 7.1905e-04\n",
      "Epoch 36/100\n",
      "12/12 [==============================] - 2s 173ms/step - loss: 9.2986e-04 - val_loss: 5.5970e-04\n",
      "Epoch 37/100\n",
      "12/12 [==============================] - 2s 183ms/step - loss: 9.1179e-04 - val_loss: 6.1309e-04\n",
      "Epoch 38/100\n",
      "12/12 [==============================] - 3s 256ms/step - loss: 9.7461e-04 - val_loss: 5.3978e-04\n",
      "Epoch 39/100\n",
      "12/12 [==============================] - 4s 336ms/step - loss: 0.0012 - val_loss: 4.2883e-04\n",
      "Epoch 40/100\n",
      "12/12 [==============================] - 2s 206ms/step - loss: 0.0011 - val_loss: 6.0815e-04\n",
      "Epoch 41/100\n",
      "12/12 [==============================] - 2s 202ms/step - loss: 0.0011 - val_loss: 6.4999e-04\n",
      "Epoch 42/100\n",
      "12/12 [==============================] - 3s 256ms/step - loss: 8.5364e-04 - val_loss: 4.9969e-04\n",
      "Epoch 43/100\n",
      "12/12 [==============================] - 4s 280ms/step - loss: 9.0919e-04 - val_loss: 4.9757e-04\n",
      "Epoch 44/100\n",
      "12/12 [==============================] - 3s 261ms/step - loss: 8.1530e-04 - val_loss: 3.8146e-04\n",
      "Epoch 45/100\n",
      "12/12 [==============================] - 3s 238ms/step - loss: 8.6322e-04 - val_loss: 3.0541e-04\n",
      "Epoch 46/100\n",
      "12/12 [==============================] - 3s 266ms/step - loss: 8.0225e-04 - val_loss: 3.6690e-04\n",
      "Epoch 47/100\n",
      "12/12 [==============================] - 3s 240ms/step - loss: 7.7766e-04 - val_loss: 2.9252e-04\n",
      "Epoch 48/100\n",
      "12/12 [==============================] - 3s 222ms/step - loss: 7.5442e-04 - val_loss: 3.2137e-04\n",
      "Epoch 49/100\n",
      "12/12 [==============================] - 3s 270ms/step - loss: 7.6336e-04 - val_loss: 2.4595e-04\n",
      "Epoch 50/100\n",
      "12/12 [==============================] - 3s 222ms/step - loss: 7.4446e-04 - val_loss: 2.6055e-04\n",
      "Epoch 51/100\n",
      "12/12 [==============================] - 2s 202ms/step - loss: 7.1187e-04 - val_loss: 2.9597e-04\n",
      "Epoch 52/100\n",
      "12/12 [==============================] - 3s 239ms/step - loss: 9.3804e-04 - val_loss: 3.2536e-04\n",
      "Epoch 53/100\n",
      "12/12 [==============================] - 2s 202ms/step - loss: 0.0011 - val_loss: 2.8913e-04\n",
      "Epoch 54/100\n",
      "12/12 [==============================] - 3s 231ms/step - loss: 8.1659e-04 - val_loss: 2.5155e-04\n",
      "Epoch 55/100\n",
      "12/12 [==============================] - 3s 230ms/step - loss: 6.6975e-04 - val_loss: 3.9659e-04\n",
      "Epoch 56/100\n",
      "12/12 [==============================] - 3s 245ms/step - loss: 7.1290e-04 - val_loss: 2.0311e-04\n",
      "Epoch 57/100\n",
      "12/12 [==============================] - 3s 233ms/step - loss: 6.3994e-04 - val_loss: 2.3353e-04\n",
      "Epoch 58/100\n",
      "12/12 [==============================] - 3s 244ms/step - loss: 6.0767e-04 - val_loss: 2.1182e-04\n",
      "Epoch 59/100\n",
      "12/12 [==============================] - 3s 230ms/step - loss: 6.6686e-04 - val_loss: 1.5428e-04\n",
      "Epoch 60/100\n",
      "12/12 [==============================] - 3s 256ms/step - loss: 6.8545e-04 - val_loss: 1.7815e-04\n",
      "Epoch 61/100\n",
      "12/12 [==============================] - 2s 192ms/step - loss: 7.5793e-04 - val_loss: 2.3387e-04\n",
      "Epoch 62/100\n",
      "12/12 [==============================] - 3s 214ms/step - loss: 7.6665e-04 - val_loss: 2.3982e-04\n",
      "Epoch 63/100\n",
      "12/12 [==============================] - 2s 197ms/step - loss: 7.1718e-04 - val_loss: 1.8565e-04\n",
      "Epoch 64/100\n",
      "12/12 [==============================] - 2s 210ms/step - loss: 6.3459e-04 - val_loss: 1.7017e-04\n",
      "Epoch 65/100\n",
      "12/12 [==============================] - 3s 216ms/step - loss: 5.7883e-04 - val_loss: 1.5555e-04\n",
      "Epoch 66/100\n",
      "12/12 [==============================] - 3s 220ms/step - loss: 6.1460e-04 - val_loss: 1.7569e-04\n",
      "Epoch 67/100\n",
      "12/12 [==============================] - 3s 212ms/step - loss: 5.5938e-04 - val_loss: 1.4529e-04\n",
      "Epoch 68/100\n",
      "12/12 [==============================] - 3s 236ms/step - loss: 5.6030e-04 - val_loss: 1.8897e-04\n",
      "Epoch 69/100\n",
      "12/12 [==============================] - 3s 227ms/step - loss: 5.5106e-04 - val_loss: 1.2752e-04\n",
      "Epoch 70/100\n",
      "12/12 [==============================] - 2s 182ms/step - loss: 5.7692e-04 - val_loss: 1.6679e-04\n",
      "Epoch 71/100\n",
      "12/12 [==============================] - 2s 186ms/step - loss: 6.5507e-04 - val_loss: 2.0303e-04\n",
      "Epoch 72/100\n",
      "12/12 [==============================] - 2s 185ms/step - loss: 6.2058e-04 - val_loss: 1.9485e-04\n",
      "Epoch 73/100\n",
      "12/12 [==============================] - 2s 193ms/step - loss: 5.9883e-04 - val_loss: 2.6040e-04\n",
      "Epoch 74/100\n",
      "12/12 [==============================] - 3s 205ms/step - loss: 5.9948e-04 - val_loss: 1.9744e-04\n",
      "Epoch 75/100\n",
      "12/12 [==============================] - 2s 192ms/step - loss: 5.2789e-04 - val_loss: 2.3629e-04\n"
     ]
    },
    {
     "name": "stdout",
     "output_type": "stream",
     "text": [
      "Epoch 76/100\n",
      "12/12 [==============================] - 2s 188ms/step - loss: 5.1528e-04 - val_loss: 1.8962e-04\n",
      "Epoch 77/100\n",
      "12/12 [==============================] - 2s 179ms/step - loss: 6.0053e-04 - val_loss: 3.4651e-04\n",
      "Epoch 78/100\n",
      "12/12 [==============================] - 2s 198ms/step - loss: 6.8875e-04 - val_loss: 2.4577e-04\n",
      "Epoch 79/100\n",
      "12/12 [==============================] - 2s 205ms/step - loss: 6.6127e-04 - val_loss: 2.3352e-04\n",
      "Epoch 80/100\n",
      "12/12 [==============================] - 2s 201ms/step - loss: 5.3138e-04 - val_loss: 2.5983e-04\n",
      "Epoch 81/100\n",
      "12/12 [==============================] - 3s 269ms/step - loss: 5.4529e-04 - val_loss: 1.7340e-04\n",
      "Epoch 82/100\n",
      "12/12 [==============================] - 3s 218ms/step - loss: 6.7801e-04 - val_loss: 2.8569e-04\n",
      "Epoch 83/100\n",
      "12/12 [==============================] - 3s 233ms/step - loss: 5.6726e-04 - val_loss: 2.4803e-04\n",
      "Epoch 84/100\n",
      "12/12 [==============================] - 3s 233ms/step - loss: 5.1113e-04 - val_loss: 2.7717e-04\n",
      "Epoch 85/100\n",
      "12/12 [==============================] - 3s 268ms/step - loss: 5.0699e-04 - val_loss: 2.2649e-04\n",
      "Epoch 86/100\n",
      "12/12 [==============================] - 2s 205ms/step - loss: 4.9045e-04 - val_loss: 2.9785e-04\n",
      "Epoch 87/100\n",
      "12/12 [==============================] - 2s 204ms/step - loss: 5.2578e-04 - val_loss: 2.1861e-04\n",
      "Epoch 88/100\n",
      "12/12 [==============================] - 2s 203ms/step - loss: 4.9842e-04 - val_loss: 3.0441e-04\n",
      "Epoch 89/100\n",
      "12/12 [==============================] - 3s 243ms/step - loss: 5.0506e-04 - val_loss: 2.1448e-04\n",
      "Epoch 90/100\n",
      "12/12 [==============================] - 3s 235ms/step - loss: 5.6621e-04 - val_loss: 2.6327e-04\n",
      "Epoch 91/100\n",
      "12/12 [==============================] - 3s 224ms/step - loss: 5.0294e-04 - val_loss: 2.8621e-04\n",
      "Epoch 92/100\n",
      "12/12 [==============================] - 3s 237ms/step - loss: 5.1824e-04 - val_loss: 3.3583e-04\n",
      "Epoch 93/100\n",
      "12/12 [==============================] - 3s 212ms/step - loss: 5.7306e-04 - val_loss: 2.4949e-04\n",
      "Epoch 94/100\n",
      "12/12 [==============================] - 2s 206ms/step - loss: 4.7382e-04 - val_loss: 3.1588e-04\n",
      "Epoch 95/100\n",
      "12/12 [==============================] - 2s 206ms/step - loss: 5.1493e-04 - val_loss: 2.4527e-04\n",
      "Epoch 96/100\n",
      "12/12 [==============================] - 3s 209ms/step - loss: 5.0689e-04 - val_loss: 3.0348e-04\n",
      "Epoch 97/100\n",
      "12/12 [==============================] - 2s 193ms/step - loss: 5.8256e-04 - val_loss: 2.3219e-04\n",
      "Epoch 98/100\n",
      "12/12 [==============================] - 2s 212ms/step - loss: 5.7661e-04 - val_loss: 3.5573e-04\n",
      "Epoch 99/100\n",
      "12/12 [==============================] - 2s 198ms/step - loss: 5.4178e-04 - val_loss: 1.7482e-04\n",
      "Epoch 100/100\n",
      "12/12 [==============================] - 3s 254ms/step - loss: 7.8495e-04 - val_loss: 3.3371e-04\n"
     ]
    },
    {
     "data": {
      "text/plain": [
       "<keras.src.callbacks.History at 0x113327e4b10>"
      ]
     },
     "execution_count": 30,
     "metadata": {},
     "output_type": "execute_result"
    }
   ],
   "source": [
    "model.fit(X_train, y_train, validation_data=(X_test, y_test), epochs=100, batch_size=64, verbose=1)\n"
   ]
  },
  {
   "cell_type": "code",
   "execution_count": 31,
   "id": "ee70f6cf",
   "metadata": {},
   "outputs": [],
   "source": [
    "import tensorflow as tf"
   ]
  },
  {
   "cell_type": "code",
   "execution_count": 32,
   "id": "5fc1c328",
   "metadata": {
    "scrolled": true
   },
   "outputs": [
    {
     "name": "stdout",
     "output_type": "stream",
     "text": [
      "23/23 [==============================] - 5s 66ms/step\n",
      "11/11 [==============================] - 1s 63ms/step\n"
     ]
    }
   ],
   "source": [
    "train_predict = model.predict(X_train)\n",
    "test_predict = model.predict(X_test)"
   ]
  },
  {
   "cell_type": "code",
   "execution_count": 33,
   "id": "2089b2d1",
   "metadata": {},
   "outputs": [],
   "source": [
    "# transform the data present to its original form - reverse sacling of the data present\n",
    "\n",
    "train_predict = scaler.inverse_transform(train_predict)\n",
    "test_predict = scaler.inverse_transform(test_predict)\n"
   ]
  },
  {
   "cell_type": "markdown",
   "id": "73ca0825",
   "metadata": {},
   "source": [
    "ROOT MEAN SQUARED PERFORMANCE MATRIX"
   ]
  },
  {
   "cell_type": "code",
   "execution_count": 35,
   "id": "924a08ef",
   "metadata": {},
   "outputs": [
    {
     "data": {
      "text/plain": [
       "2024.7165536421007"
      ]
     },
     "execution_count": 35,
     "metadata": {},
     "output_type": "execute_result"
    }
   ],
   "source": [
    "import math\n",
    "from sklearn.metrics import mean_squared_error\n",
    "math.sqrt(mean_squared_error(y_train , train_predict))"
   ]
  },
  {
   "cell_type": "code",
   "execution_count": 36,
   "id": "df1ed542",
   "metadata": {},
   "outputs": [
    {
     "data": {
      "text/plain": [
       "172.38037574840575"
      ]
     },
     "execution_count": 36,
     "metadata": {},
     "output_type": "execute_result"
    }
   ],
   "source": [
    "math.sqrt(mean_squared_error(y_test , test_predict))"
   ]
  },
  {
   "cell_type": "markdown",
   "id": "3008ea95",
   "metadata": {},
   "source": [
    "                                              PLOT"
   ]
  },
  {
   "cell_type": "markdown",
   "id": "d4de9f19",
   "metadata": {},
   "source": [
    "Blue - The original data of the dataset"
   ]
  },
  {
   "cell_type": "markdown",
   "id": "ad7b9d47",
   "metadata": {},
   "source": [
    "Yellow - Training dataset"
   ]
  },
  {
   "cell_type": "markdown",
   "id": "8cfe6e81",
   "metadata": {},
   "source": [
    "Green - Test dataset\n"
   ]
  },
  {
   "cell_type": "code",
   "execution_count": 37,
   "id": "ff821535",
   "metadata": {},
   "outputs": [
    {
     "data": {
      "image/png": "[encoded data removed]",
      "text/plain": [
       "<Figure size 640x480 with 1 Axes>"
      ]
     },
     "metadata": {},
     "output_type": "display_data"
    }
   ],
   "source": [
    "look_back = 100\n",
    "\n",
    "\n",
    "trainPredictPlot = np.empty_like(df1)\n",
    "trainPredictPlot[:] = np.nan\n",
    "testPredictPlot = np.empty_like(df1)\n",
    "testPredictPlot[:] = np.nan\n",
    "\n",
    "\n",
    "trainPredictPlot[look_back:len(train_predict) + look_back, :] = train_predict\n",
    "\n",
    "testPredictPlot[len(train_predict) + (look_back*2) + 1:len(df1) - 1, :] = test_predict\n",
    "\n",
    "\n",
    "plt.plot(scaler.inverse_transform(df1))\n",
    "plt.plot(trainPredictPlot)\n",
    "plt.plot(testPredictPlot)\n",
    "plt.show()\n"
   ]
  },
  {
   "cell_type": "code",
   "execution_count": 38,
   "id": "8db0cb9c",
   "metadata": {},
   "outputs": [
    {
     "data": {
      "text/plain": [
       "(1, 100)"
      ]
     },
     "execution_count": 38,
     "metadata": {},
     "output_type": "execute_result"
    }
   ],
   "source": [
    "x_input = test_data[341:].reshape(1,-1)\n",
    "x_input.shape"
   ]
  },
  {
   "cell_type": "code",
   "execution_count": 39,
   "id": "003724f6",
   "metadata": {},
   "outputs": [],
   "source": [
    "x_input = test_data[341:].reshape(1,-1)"
   ]
  },
  {
   "cell_type": "code",
   "execution_count": 43,
   "id": "8b45ec09",
   "metadata": {},
   "outputs": [],
   "source": [
    "temp_input=list(x_input)\n",
    "temp_input=temp_input[0].tolist()"
   ]
  },
  {
   "cell_type": "code",
   "execution_count": 44,
   "id": "ef70a6f7",
   "metadata": {},
   "outputs": [
    {
     "data": {
      "text/plain": [
       "[0.01763407252217054,\n",
       " 0.01699599752959201,\n",
       " 0.018009410753099104,\n",
       " 0.01791387011249911,\n",
       " 0.01884880352408477,\n",
       " 0.019111540285734755,\n",
       " 0.01900917531366333,\n",
       " 0.019862216747591862,\n",
       " 0.01938110137885617,\n",
       " 0.01879762103804906,\n",
       " 0.019449344693570455,\n",
       " 0.019619952980356164,\n",
       " 0.019036472639549048,\n",
       " 0.018934107667477617,\n",
       " 0.018169782542677666,\n",
       " 0.018565593768020503,\n",
       " 0.019323094561349032,\n",
       " 0.01473373164681355,\n",
       " 0.013631602114177886,\n",
       " 0.013617953451235034,\n",
       " 0.01441981239912785,\n",
       " 0.014266264941020717,\n",
       " 0.015040826563027816,\n",
       " 0.015385455302334951,\n",
       " 0.01599623296902777,\n",
       " 0.01636474686848489,\n",
       " 0.01668890261337774,\n",
       " 0.016982348866649146,\n",
       " 0.016446638846142034,\n",
       " 0.01725532212550628,\n",
       " 0.01711201116460628,\n",
       " 0.017722788831299113,\n",
       " 0.018046944576191954,\n",
       " 0.018838567026877622,\n",
       " 0.018238025857391944,\n",
       " 0.018572418099491925,\n",
       " 0.01881126970099192,\n",
       " 0.019288972903991893,\n",
       " 0.01867478307156335,\n",
       " 0.01861677625405621,\n",
       " 0.01881126970099192,\n",
       " 0.018053768907663383,\n",
       " 0.017207551805206275,\n",
       " 0.017002821861063434,\n",
       " 0.016084949278156336,\n",
       " 0.016685490447642014,\n",
       " 0.01635792253701347,\n",
       " 0.018753262883484775,\n",
       " 0.01813566088532052,\n",
       " 0.01747370073259198,\n",
       " 0.01711201116460628,\n",
       " 0.01722461263388485,\n",
       " 0.01696187587223486,\n",
       " 0.017180254479320572,\n",
       " 0.018323330000784798,\n",
       " 0.01863383708273478,\n",
       " 0.01916613493750618,\n",
       " 0.019896338404949008,\n",
       " 0.020210257652634702,\n",
       " 0.02024437930999184,\n",
       " 0.019773500438463296,\n",
       " 0.01971890578669187,\n",
       " 0.019599479985941876,\n",
       " 0.019132013280149043,\n",
       " 0.019404986539006176,\n",
       " 0.018613364088320494,\n",
       " 0.018391573315499076,\n",
       " 0.019462993356513313,\n",
       " 0.020155663000863275,\n",
       " 0.02057877155209183,\n",
       " 0.020534413397527537,\n",
       " 0.02072890684446325,\n",
       " 0.020674312192691825,\n",
       " 0.02026826447014184,\n",
       " 0.020984819274641808,\n",
       " 0.02200164466388461,\n",
       " 0.021912928354756046,\n",
       " 0.022243908431120316,\n",
       " 0.022813740108984574,\n",
       " 0.023936342636034513,\n",
       " 0.023987525122070228,\n",
       " 0.02434580252432021,\n",
       " 0.02373502485762739,\n",
       " 0.019896338404949008,\n",
       " 0.02020684548689899,\n",
       " 0.020490055242963257,\n",
       " 0.020964346280227527,\n",
       " 0.0211281302355418,\n",
       " 0.021561475283977494,\n",
       " 0.021745732233706055,\n",
       " 0.022769381954420288,\n",
       " 0.022260969259798886,\n",
       " 0.02145569814617036,\n",
       " 0.021718434907820338,\n",
       " 0.020626541872391827,\n",
       " 0.019882689742006143,\n",
       " 0.020032825034377564,\n",
       " 0.020592420215034688,\n",
       " 0.021097420743920372,\n",
       " 0.021087184246713225]"
      ]
     },
     "execution_count": 44,
     "metadata": {},
     "output_type": "execute_result"
    }
   ],
   "source": [
    "temp_input"
   ]
  },
  {
   "cell_type": "code",
   "execution_count": 50,
   "id": "f133ba48",
   "metadata": {},
   "outputs": [],
   "source": [
    "from numpy import array\n",
    "\n",
    "def predict_stock_prices(model, initial_input, time_steps=100, prediction_days=30):\n",
    "    lst_output = []\n",
    "    temp_input = initial_input  # Assuming initial_input contains the stock data\n",
    "    n_steps = time_steps\n",
    "    i = 0\n",
    "    \n",
    "    while i < prediction_days:\n",
    "        if len(temp_input) > time_steps:\n",
    "            x_input = array(temp_input[1:]).reshape(1, -1, 1)\n",
    "        else:\n",
    "            x_input = temp_input.reshape((1, n_steps, 1))\n",
    "\n",
    "        yhat = model.predict(x_input, verbose=0)\n",
    "        temp_input = np.append(temp_input, yhat[0])\n",
    "        lst_output.extend(yhat.tolist())\n",
    "        i += 1\n",
    "    \n",
    "    return lst_output\n",
    "\n",
    "# Example usage\n",
    "# Assuming 'model' is your trained model and 'stock_data' is the initial stock data\n",
    "# predicted_prices = predict_stock_prices(model, stock_data, time_steps, prediction_days)\n"
   ]
  },
  {
   "cell_type": "code",
   "execution_count": 51,
   "id": "272aeb6b",
   "metadata": {},
   "outputs": [],
   "source": [
    "day_new=np.arange(1,101)\n",
    "day_pred=np.arange(101,131)"
   ]
  },
  {
   "cell_type": "code",
   "execution_count": 52,
   "id": "360db6f5",
   "metadata": {},
   "outputs": [
    {
     "data": {
      "text/plain": [
       "1258"
      ]
     },
     "execution_count": 52,
     "metadata": {},
     "output_type": "execute_result"
    }
   ],
   "source": [
    "len(df1)"
   ]
  },
  {
   "cell_type": "code",
   "execution_count": 49,
   "id": "7ae8bfcd",
   "metadata": {},
   "outputs": [
    {
     "data": {
      "text/plain": [
       "[<matplotlib.lines.Line2D at 0x1133fc92c90>]"
      ]
     },
     "execution_count": 49,
     "metadata": {},
     "output_type": "execute_result"
    },
    {
     "data": {
      "image/png": "[encoded data removed]",
      "text/plain": [
       "<Figure size 640x480 with 1 Axes>"
      ]
     },
     "metadata": {},
     "output_type": "display_data"
    }
   ],
   "source": [
    "df3=scaler.inverse_transform(df3).tolist()\n",
    "plt.plot(df3)"
   ]
  },
  {
   "cell_type": "code",
   "execution_count": null,
   "id": "36001b76",
   "metadata": {},
   "outputs": [],
   "source": []
  }
 ],
 "metadata": {
  "kernelspec": {
   "display_name": "Python 3 (ipykernel)",
   "language": "python",
   "name": "python3"
  },
  "language_info": {
   "codemirror_mode": {
    "name": "ipython",
    "version": 3
   },
   "file_extension": ".py",
   "mimetype": "text/x-python",
   "name": "python",
   "nbconvert_exporter": "python",
   "pygments_lexer": "ipython3",
   "version": "3.11.4"
  }
 },
 "nbformat": 4,
 "nbformat_minor": 5
}
