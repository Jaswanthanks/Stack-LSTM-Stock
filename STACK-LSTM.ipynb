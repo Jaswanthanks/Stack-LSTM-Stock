{
 "cells": [
  {
   "cell_type": "code",
   "execution_count": 1,
   "id": "bdc03356",
   "metadata": {},
   "outputs": [],
   "source": [
    "import pandas_datareader as pdr"
   ]
  },
  {
   "cell_type": "code",
   "execution_count": 3,
   "id": "f85c72d6",
   "metadata": {
    "scrolled": true
   },
   "outputs": [
    {
     "name": "stderr",
     "output_type": "stream",
     "text": [
      "C:\\Users\\User\\AppData\\Local\\Temp\\ipykernel_20296\\1836431476.py:1: FutureWarning: In a future version of pandas all arguments of concat except for the argument 'objs' will be keyword-only.\n",
      "  df = pdr.get_data_tiingo('GOOG', api_key=key)\n"
     ]
    }
   ],
   "source": [
    "df = pdr.get_data_tiingo('GOOG', api_key=key)"
   ]
  },
  {
   "cell_type": "code",
   "execution_count": 4,
   "id": "495ce967",
   "metadata": {},
   "outputs": [],
   "source": [
    "df.to_csv('GOOG.csv')"
   ]
  },
  {
   "cell_type": "code",
   "execution_count": 5,
   "id": "a8c82d6c",
   "metadata": {},
   "outputs": [],
   "source": [
    "import pandas as pd"
   ]
  },
  {
   "cell_type": "code",
   "execution_count": 6,
   "id": "cf2211fb",
   "metadata": {},
   "outputs": [
    {
     "data": {
      "text/html": [
       "<div>\n",
       "<style scoped>\n",
       "    .dataframe tbody tr th:only-of-type {\n",
       "        vertical-align: middle;\n",
       "    }\n",
       "\n",
       "    .dataframe tbody tr th {\n",
       "        vertical-align: top;\n",
       "    }\n",
       "\n",
       "    .dataframe thead th {\n",
       "        text-align: right;\n",
       "    }\n",
       "</style>\n",
       "<table border=\"1\" class=\"dataframe\">\n",
       "  <thead>\n",
       "    <tr style=\"text-align: right;\">\n",
       "      <th></th>\n",
       "      <th>symbol</th>\n",
       "      <th>date</th>\n",
       "      <th>close</th>\n",
       "      <th>high</th>\n",
       "      <th>low</th>\n",
       "      <th>open</th>\n",
       "      <th>volume</th>\n",
       "      <th>adjClose</th>\n",
       "      <th>adjHigh</th>\n",
       "      <th>adjLow</th>\n",
       "      <th>adjOpen</th>\n",
       "      <th>adjVolume</th>\n",
       "      <th>divCash</th>\n",
       "      <th>splitFactor</th>\n",
       "    </tr>\n",
       "  </thead>\n",
       "  <tbody>\n",
       "    <tr>\n",
       "      <th>0</th>\n",
       "      <td>GOOG</td>\n",
       "      <td>2019-01-29 00:00:00+00:00</td>\n",
       "      <td>1060.62</td>\n",
       "      <td>1075.150</td>\n",
       "      <td>1055.865</td>\n",
       "      <td>1072.68</td>\n",
       "      <td>1021819</td>\n",
       "      <td>53.0310</td>\n",
       "      <td>53.7575</td>\n",
       "      <td>52.79325</td>\n",
       "      <td>53.6340</td>\n",
       "      <td>20436380</td>\n",
       "      <td>0.0</td>\n",
       "      <td>1.0</td>\n",
       "    </tr>\n",
       "    <tr>\n",
       "      <th>1</th>\n",
       "      <td>GOOG</td>\n",
       "      <td>2019-01-30 00:00:00+00:00</td>\n",
       "      <td>1089.06</td>\n",
       "      <td>1091.000</td>\n",
       "      <td>1066.850</td>\n",
       "      <td>1068.43</td>\n",
       "      <td>1279822</td>\n",
       "      <td>54.4530</td>\n",
       "      <td>54.5500</td>\n",
       "      <td>53.34250</td>\n",
       "      <td>53.4215</td>\n",
       "      <td>25596440</td>\n",
       "      <td>0.0</td>\n",
       "      <td>1.0</td>\n",
       "    </tr>\n",
       "    <tr>\n",
       "      <th>2</th>\n",
       "      <td>GOOG</td>\n",
       "      <td>2019-01-31 00:00:00+00:00</td>\n",
       "      <td>1116.37</td>\n",
       "      <td>1117.330</td>\n",
       "      <td>1095.410</td>\n",
       "      <td>1103.00</td>\n",
       "      <td>1538324</td>\n",
       "      <td>55.8185</td>\n",
       "      <td>55.8665</td>\n",
       "      <td>54.77050</td>\n",
       "      <td>55.1500</td>\n",
       "      <td>30766480</td>\n",
       "      <td>0.0</td>\n",
       "      <td>1.0</td>\n",
       "    </tr>\n",
       "    <tr>\n",
       "      <th>3</th>\n",
       "      <td>GOOG</td>\n",
       "      <td>2019-02-01 00:00:00+00:00</td>\n",
       "      <td>1110.75</td>\n",
       "      <td>1125.000</td>\n",
       "      <td>1104.890</td>\n",
       "      <td>1112.40</td>\n",
       "      <td>1462208</td>\n",
       "      <td>55.5375</td>\n",
       "      <td>56.2500</td>\n",
       "      <td>55.24450</td>\n",
       "      <td>55.6200</td>\n",
       "      <td>29244160</td>\n",
       "      <td>0.0</td>\n",
       "      <td>1.0</td>\n",
       "    </tr>\n",
       "    <tr>\n",
       "      <th>4</th>\n",
       "      <td>GOOG</td>\n",
       "      <td>2019-02-04 00:00:00+00:00</td>\n",
       "      <td>1132.80</td>\n",
       "      <td>1132.800</td>\n",
       "      <td>1109.020</td>\n",
       "      <td>1112.66</td>\n",
       "      <td>2576470</td>\n",
       "      <td>56.6400</td>\n",
       "      <td>56.6400</td>\n",
       "      <td>55.45100</td>\n",
       "      <td>55.6330</td>\n",
       "      <td>51529400</td>\n",
       "      <td>0.0</td>\n",
       "      <td>1.0</td>\n",
       "    </tr>\n",
       "    <tr>\n",
       "      <th>...</th>\n",
       "      <td>...</td>\n",
       "      <td>...</td>\n",
       "      <td>...</td>\n",
       "      <td>...</td>\n",
       "      <td>...</td>\n",
       "      <td>...</td>\n",
       "      <td>...</td>\n",
       "      <td>...</td>\n",
       "      <td>...</td>\n",
       "      <td>...</td>\n",
       "      <td>...</td>\n",
       "      <td>...</td>\n",
       "      <td>...</td>\n",
       "      <td>...</td>\n",
       "    </tr>\n",
       "    <tr>\n",
       "      <th>1253</th>\n",
       "      <td>GOOG</td>\n",
       "      <td>2024-01-22 00:00:00+00:00</td>\n",
       "      <td>147.71</td>\n",
       "      <td>150.015</td>\n",
       "      <td>147.580</td>\n",
       "      <td>148.71</td>\n",
       "      <td>21829232</td>\n",
       "      <td>147.7100</td>\n",
       "      <td>150.0150</td>\n",
       "      <td>147.58000</td>\n",
       "      <td>148.7100</td>\n",
       "      <td>21829232</td>\n",
       "      <td>0.0</td>\n",
       "      <td>1.0</td>\n",
       "    </tr>\n",
       "    <tr>\n",
       "      <th>1254</th>\n",
       "      <td>GOOG</td>\n",
       "      <td>2024-01-23 00:00:00+00:00</td>\n",
       "      <td>148.68</td>\n",
       "      <td>148.860</td>\n",
       "      <td>147.190</td>\n",
       "      <td>147.72</td>\n",
       "      <td>14113649</td>\n",
       "      <td>148.6800</td>\n",
       "      <td>148.8600</td>\n",
       "      <td>147.19000</td>\n",
       "      <td>147.7200</td>\n",
       "      <td>14113649</td>\n",
       "      <td>0.0</td>\n",
       "      <td>1.0</td>\n",
       "    </tr>\n",
       "    <tr>\n",
       "      <th>1255</th>\n",
       "      <td>GOOG</td>\n",
       "      <td>2024-01-24 00:00:00+00:00</td>\n",
       "      <td>150.35</td>\n",
       "      <td>151.570</td>\n",
       "      <td>149.840</td>\n",
       "      <td>150.29</td>\n",
       "      <td>18892741</td>\n",
       "      <td>150.3500</td>\n",
       "      <td>151.5700</td>\n",
       "      <td>149.84000</td>\n",
       "      <td>150.2900</td>\n",
       "      <td>18892741</td>\n",
       "      <td>0.0</td>\n",
       "      <td>1.0</td>\n",
       "    </tr>\n",
       "    <tr>\n",
       "      <th>1256</th>\n",
       "      <td>GOOG</td>\n",
       "      <td>2024-01-25 00:00:00+00:00</td>\n",
       "      <td>153.64</td>\n",
       "      <td>154.760</td>\n",
       "      <td>151.220</td>\n",
       "      <td>151.74</td>\n",
       "      <td>21495120</td>\n",
       "      <td>153.6400</td>\n",
       "      <td>154.7600</td>\n",
       "      <td>151.22000</td>\n",
       "      <td>151.7400</td>\n",
       "      <td>21495120</td>\n",
       "      <td>0.0</td>\n",
       "      <td>1.0</td>\n",
       "    </tr>\n",
       "    <tr>\n",
       "      <th>1257</th>\n",
       "      <td>GOOG</td>\n",
       "      <td>2024-01-26 00:00:00+00:00</td>\n",
       "      <td>153.79</td>\n",
       "      <td>154.110</td>\n",
       "      <td>152.800</td>\n",
       "      <td>152.87</td>\n",
       "      <td>19494488</td>\n",
       "      <td>153.7900</td>\n",
       "      <td>154.1100</td>\n",
       "      <td>152.80000</td>\n",
       "      <td>152.8700</td>\n",
       "      <td>19494488</td>\n",
       "      <td>0.0</td>\n",
       "      <td>1.0</td>\n",
       "    </tr>\n",
       "  </tbody>\n",
       "</table>\n",
       "<p>1258 rows × 14 columns</p>\n",
       "</div>"
      ],
      "text/plain": [
       "     symbol                       date    close      high       low     open  \\\n",
       "0      GOOG  2019-01-29 00:00:00+00:00  1060.62  1075.150  1055.865  1072.68   \n",
       "1      GOOG  2019-01-30 00:00:00+00:00  1089.06  1091.000  1066.850  1068.43   \n",
       "2      GOOG  2019-01-31 00:00:00+00:00  1116.37  1117.330  1095.410  1103.00   \n",
       "3      GOOG  2019-02-01 00:00:00+00:00  1110.75  1125.000  1104.890  1112.40   \n",
       "4      GOOG  2019-02-04 00:00:00+00:00  1132.80  1132.800  1109.020  1112.66   \n",
       "...     ...                        ...      ...       ...       ...      ...   \n",
       "1253   GOOG  2024-01-22 00:00:00+00:00   147.71   150.015   147.580   148.71   \n",
       "1254   GOOG  2024-01-23 00:00:00+00:00   148.68   148.860   147.190   147.72   \n",
       "1255   GOOG  2024-01-24 00:00:00+00:00   150.35   151.570   149.840   150.29   \n",
       "1256   GOOG  2024-01-25 00:00:00+00:00   153.64   154.760   151.220   151.74   \n",
       "1257   GOOG  2024-01-26 00:00:00+00:00   153.79   154.110   152.800   152.87   \n",
       "\n",
       "        volume  adjClose   adjHigh     adjLow   adjOpen  adjVolume  divCash  \\\n",
       "0      1021819   53.0310   53.7575   52.79325   53.6340   20436380      0.0   \n",
       "1      1279822   54.4530   54.5500   53.34250   53.4215   25596440      0.0   \n",
       "2      1538324   55.8185   55.8665   54.77050   55.1500   30766480      0.0   \n",
       "3      1462208   55.5375   56.2500   55.24450   55.6200   29244160      0.0   \n",
       "4      2576470   56.6400   56.6400   55.45100   55.6330   51529400      0.0   \n",
       "...        ...       ...       ...        ...       ...        ...      ...   \n",
       "1253  21829232  147.7100  150.0150  147.58000  148.7100   21829232      0.0   \n",
       "1254  14113649  148.6800  148.8600  147.19000  147.7200   14113649      0.0   \n",
       "1255  18892741  150.3500  151.5700  149.84000  150.2900   18892741      0.0   \n",
       "1256  21495120  153.6400  154.7600  151.22000  151.7400   21495120      0.0   \n",
       "1257  19494488  153.7900  154.1100  152.80000  152.8700   19494488      0.0   \n",
       "\n",
       "      splitFactor  \n",
       "0             1.0  \n",
       "1             1.0  \n",
       "2             1.0  \n",
       "3             1.0  \n",
       "4             1.0  \n",
       "...           ...  \n",
       "1253          1.0  \n",
       "1254          1.0  \n",
       "1255          1.0  \n",
       "1256          1.0  \n",
       "1257          1.0  \n",
       "\n",
       "[1258 rows x 14 columns]"
      ]
     },
     "execution_count": 6,
     "metadata": {},
     "output_type": "execute_result"
    }
   ],
   "source": [
    "df = pd.read_csv('GOOG.csv')\n",
    "df"
   ]
  },
  {
   "cell_type": "code",
   "execution_count": 7,
   "id": "273c7abc",
   "metadata": {},
   "outputs": [],
   "source": [
    "df1 = df.reset_index()['close']"
   ]
  },
  {
   "cell_type": "code",
   "execution_count": 8,
   "id": "784c7791",
   "metadata": {},
   "outputs": [
    {
     "data": {
      "text/plain": [
       "(1258, 14)"
      ]
     },
     "execution_count": 8,
     "metadata": {},
     "output_type": "execute_result"
    }
   ],
   "source": [
    "df.shape"
   ]
  },
  {
   "cell_type": "code",
   "execution_count": 9,
   "id": "7fb55f77",
   "metadata": {},
   "outputs": [
    {
     "data": {
      "text/html": [
       "<div>\n",
       "<style scoped>\n",
       "    .dataframe tbody tr th:only-of-type {\n",
       "        vertical-align: middle;\n",
       "    }\n",
       "\n",
       "    .dataframe tbody tr th {\n",
       "        vertical-align: top;\n",
       "    }\n",
       "\n",
       "    .dataframe thead th {\n",
       "        text-align: right;\n",
       "    }\n",
       "</style>\n",
       "<table border=\"1\" class=\"dataframe\">\n",
       "  <thead>\n",
       "    <tr style=\"text-align: right;\">\n",
       "      <th></th>\n",
       "      <th>symbol</th>\n",
       "      <th>date</th>\n",
       "      <th>close</th>\n",
       "      <th>high</th>\n",
       "      <th>low</th>\n",
       "      <th>open</th>\n",
       "      <th>volume</th>\n",
       "      <th>adjClose</th>\n",
       "      <th>adjHigh</th>\n",
       "      <th>adjLow</th>\n",
       "      <th>adjOpen</th>\n",
       "      <th>adjVolume</th>\n",
       "      <th>divCash</th>\n",
       "      <th>splitFactor</th>\n",
       "    </tr>\n",
       "  </thead>\n",
       "  <tbody>\n",
       "    <tr>\n",
       "      <th>1228</th>\n",
       "      <td>GOOG</td>\n",
       "      <td>2023-12-13 00:00:00+00:00</td>\n",
       "      <td>133.97</td>\n",
       "      <td>134.780</td>\n",
       "      <td>132.95</td>\n",
       "      <td>134.545</td>\n",
       "      <td>25414461</td>\n",
       "      <td>133.97</td>\n",
       "      <td>134.780</td>\n",
       "      <td>132.95</td>\n",
       "      <td>134.545</td>\n",
       "      <td>25414461</td>\n",
       "      <td>0.0</td>\n",
       "      <td>1.0</td>\n",
       "    </tr>\n",
       "    <tr>\n",
       "      <th>1229</th>\n",
       "      <td>GOOG</td>\n",
       "      <td>2023-12-14 00:00:00+00:00</td>\n",
       "      <td>133.20</td>\n",
       "      <td>135.035</td>\n",
       "      <td>131.06</td>\n",
       "      <td>134.770</td>\n",
       "      <td>29619098</td>\n",
       "      <td>133.20</td>\n",
       "      <td>135.035</td>\n",
       "      <td>131.06</td>\n",
       "      <td>134.770</td>\n",
       "      <td>29619098</td>\n",
       "      <td>0.0</td>\n",
       "      <td>1.0</td>\n",
       "    </tr>\n",
       "    <tr>\n",
       "      <th>1230</th>\n",
       "      <td>GOOG</td>\n",
       "      <td>2023-12-15 00:00:00+00:00</td>\n",
       "      <td>133.84</td>\n",
       "      <td>134.830</td>\n",
       "      <td>132.63</td>\n",
       "      <td>132.920</td>\n",
       "      <td>58594004</td>\n",
       "      <td>133.84</td>\n",
       "      <td>134.830</td>\n",
       "      <td>132.63</td>\n",
       "      <td>132.920</td>\n",
       "      <td>58594004</td>\n",
       "      <td>0.0</td>\n",
       "      <td>1.0</td>\n",
       "    </tr>\n",
       "    <tr>\n",
       "      <th>1231</th>\n",
       "      <td>GOOG</td>\n",
       "      <td>2023-12-18 00:00:00+00:00</td>\n",
       "      <td>137.19</td>\n",
       "      <td>138.380</td>\n",
       "      <td>133.77</td>\n",
       "      <td>133.860</td>\n",
       "      <td>25699767</td>\n",
       "      <td>137.19</td>\n",
       "      <td>138.380</td>\n",
       "      <td>133.77</td>\n",
       "      <td>133.860</td>\n",
       "      <td>25699767</td>\n",
       "      <td>0.0</td>\n",
       "      <td>1.0</td>\n",
       "    </tr>\n",
       "    <tr>\n",
       "      <th>1232</th>\n",
       "      <td>GOOG</td>\n",
       "      <td>2023-12-19 00:00:00+00:00</td>\n",
       "      <td>138.10</td>\n",
       "      <td>138.770</td>\n",
       "      <td>137.45</td>\n",
       "      <td>138.000</td>\n",
       "      <td>20601632</td>\n",
       "      <td>138.10</td>\n",
       "      <td>138.770</td>\n",
       "      <td>137.45</td>\n",
       "      <td>138.000</td>\n",
       "      <td>20601632</td>\n",
       "      <td>0.0</td>\n",
       "      <td>1.0</td>\n",
       "    </tr>\n",
       "  </tbody>\n",
       "</table>\n",
       "</div>"
      ],
      "text/plain": [
       "     symbol                       date   close     high     low     open  \\\n",
       "1228   GOOG  2023-12-13 00:00:00+00:00  133.97  134.780  132.95  134.545   \n",
       "1229   GOOG  2023-12-14 00:00:00+00:00  133.20  135.035  131.06  134.770   \n",
       "1230   GOOG  2023-12-15 00:00:00+00:00  133.84  134.830  132.63  132.920   \n",
       "1231   GOOG  2023-12-18 00:00:00+00:00  137.19  138.380  133.77  133.860   \n",
       "1232   GOOG  2023-12-19 00:00:00+00:00  138.10  138.770  137.45  138.000   \n",
       "\n",
       "        volume  adjClose  adjHigh  adjLow  adjOpen  adjVolume  divCash  \\\n",
       "1228  25414461    133.97  134.780  132.95  134.545   25414461      0.0   \n",
       "1229  29619098    133.20  135.035  131.06  134.770   29619098      0.0   \n",
       "1230  58594004    133.84  134.830  132.63  132.920   58594004      0.0   \n",
       "1231  25699767    137.19  138.380  133.77  133.860   25699767      0.0   \n",
       "1232  20601632    138.10  138.770  137.45  138.000   20601632      0.0   \n",
       "\n",
       "      splitFactor  \n",
       "1228          1.0  \n",
       "1229          1.0  \n",
       "1230          1.0  \n",
       "1231          1.0  \n",
       "1232          1.0  "
      ]
     },
     "execution_count": 9,
     "metadata": {},
     "output_type": "execute_result"
    }
   ],
   "source": [
    "df[1228:].head()"
   ]
  },
  {
   "cell_type": "code",
   "execution_count": 10,
   "id": "a9deb9b5",
   "metadata": {},
   "outputs": [
    {
     "data": {
      "text/plain": [
       "[<matplotlib.lines.Line2D at 0x2326f052290>]"
      ]
     },
     "execution_count": 10,
     "metadata": {},
     "output_type": "execute_result"
    },
    {
     "data": {
      "image/png": "[encoded data removed]",
      "text/plain": [
       "<Figure size 640x480 with 1 Axes>"
      ]
     },
     "metadata": {},
     "output_type": "display_data"
    }
   ],
   "source": [
    "import matplotlib.pyplot as plt\n",
    "plt.plot(df1)"
   ]
  },
  {
   "cell_type": "markdown",
   "id": "6644827f",
   "metadata": {},
   "source": [
    "LSTM are sensitive to the scale of the data , so we apply MiniMax scaler"
   ]
  },
  {
   "cell_type": "code",
   "execution_count": 11,
   "id": "1d3b92bf",
   "metadata": {},
   "outputs": [],
   "source": [
    "import numpy as np"
   ]
  },
  {
   "cell_type": "code",
   "execution_count": 12,
   "id": "4f7fd21d",
   "metadata": {},
   "outputs": [],
   "source": [
    "from sklearn.preprocessing import MinMaxScaler\n",
    "scaler = MinMaxScaler(feature_range = (0,1))\n",
    "df1 = scaler.fit_transform(np.array(df1).reshape(-1,1))"
   ]
  },
  {
   "cell_type": "code",
   "execution_count": 13,
   "id": "b6a5c82e",
   "metadata": {},
   "outputs": [
    {
     "data": {
      "text/plain": [
       "(1258, 1)"
      ]
     },
     "execution_count": 13,
     "metadata": {},
     "output_type": "execute_result"
    }
   ],
   "source": [
    "df1.shape"
   ]
  },
  {
   "cell_type": "code",
   "execution_count": 14,
   "id": "176a3e82",
   "metadata": {},
   "outputs": [
    {
     "data": {
      "text/plain": [
       "array([[0.33341295],\n",
       "       [0.34311715],\n",
       "       [0.35243577],\n",
       "       ...,\n",
       "       [0.02281374],\n",
       "       [0.02393634],\n",
       "       [0.02398753]])"
      ]
     },
     "execution_count": 14,
     "metadata": {},
     "output_type": "execute_result"
    }
   ],
   "source": [
    "df1"
   ]
  },
  {
   "cell_type": "markdown",
   "id": "eb9190ae",
   "metadata": {},
   "source": [
    "                           SPLITTING THE DATASET INTO TRAIN AND TEST DATA"
   ]
  },
  {
   "cell_type": "code",
   "execution_count": 15,
   "id": "25a8b6d7",
   "metadata": {},
   "outputs": [],
   "source": [
    "from sklearn.model_selection import train_test_split\n",
    "training_set = int(len(df1)*0.65)\n",
    "test_set = len(df1) - training_set\n",
    "train_data , test_data = df1[0:training_set,:] , df1[training_set:len(df1):]"
   ]
  },
  {
   "cell_type": "code",
   "execution_count": 16,
   "id": "4c9ea6e2",
   "metadata": {},
   "outputs": [],
   "source": [
    "import numpy \n",
    "def create_dataset(dataset,time_step = 1):\n",
    "    dataX,dataY = [],[]\n",
    "    for i in range(len(dataset)-time_step-1):\n",
    "        a = dataset[i:(i+time_step),0]\n",
    "        dataX.append(a)\n",
    "        dataY.append(dataset[i+time_step,0])\n",
    "    return numpy.array(dataX),numpy.array(dataY)"
   ]
  },
  {
   "cell_type": "code",
   "execution_count": 17,
   "id": "3863e0ba",
   "metadata": {},
   "outputs": [],
   "source": [
    "time_step = 100\n",
    "X_train , y_train = create_dataset(train_data , time_step)\n",
    "X_test , y_test = create_dataset(test_data , time_step)"
   ]
  },
  {
   "cell_type": "code",
   "execution_count": 18,
   "id": "6c0c0d5b",
   "metadata": {},
   "outputs": [
    {
     "name": "stdout",
     "output_type": "stream",
     "text": [
      "(716, 100)\n",
      "(716,)\n"
     ]
    },
    {
     "data": {
      "text/plain": [
       "(None, None)"
      ]
     },
     "execution_count": 18,
     "metadata": {},
     "output_type": "execute_result"
    }
   ],
   "source": [
    "print(X_train.shape) , print(y_train.shape)"
   ]
  },
  {
   "cell_type": "code",
   "execution_count": 19,
   "id": "8f40e3e1",
   "metadata": {},
   "outputs": [
    {
     "name": "stdout",
     "output_type": "stream",
     "text": [
      "(340, 100)\n",
      "(340,)\n"
     ]
    },
    {
     "data": {
      "text/plain": [
       "(None, None)"
      ]
     },
     "execution_count": 19,
     "metadata": {},
     "output_type": "execute_result"
    }
   ],
   "source": [
    "print(X_test.shape) , print(y_test.shape)"
   ]
  },
  {
   "cell_type": "markdown",
   "id": "6672cf9b",
   "metadata": {},
   "source": [
    "X_train =X_train.reshape(X_train.shape[0] , X_train.shape[1],1)\n",
    "X_test =X_test.reshape(X_test.shape[0] , X_test.shape[1],1)"
   ]
  },
  {
   "cell_type": "markdown",
   "id": "e7de0abb",
   "metadata": {},
   "source": [
    "                                         STACK LSTM MODEL"
   ]
  },
  {
   "cell_type": "code",
   "execution_count": 20,
   "id": "ad4ad87e",
   "metadata": {},
   "outputs": [
    {
     "name": "stdout",
     "output_type": "stream",
     "text": [
      "WARNING:tensorflow:From C:\\Users\\User\\anaconda3\\Lib\\site-packages\\keras\\src\\losses.py:2976: The name tf.losses.sparse_softmax_cross_entropy is deprecated. Please use tf.compat.v1.losses.sparse_softmax_cross_entropy instead.\n",
      "\n"
     ]
    }
   ],
   "source": [
    "from tensorflow.keras.models import Sequential\n",
    "from tensorflow.keras.layers import Dense\n",
    "from tensorflow.keras.layers import LSTM"
   ]
  },
  {
   "cell_type": "code",
   "execution_count": 21,
   "id": "251ddd20",
   "metadata": {},
   "outputs": [
    {
     "name": "stdout",
     "output_type": "stream",
     "text": [
      "WARNING:tensorflow:From C:\\Users\\User\\anaconda3\\Lib\\site-packages\\keras\\src\\backend.py:873: The name tf.get_default_graph is deprecated. Please use tf.compat.v1.get_default_graph instead.\n",
      "\n",
      "WARNING:tensorflow:From C:\\Users\\User\\anaconda3\\Lib\\site-packages\\keras\\src\\optimizers\\__init__.py:309: The name tf.train.Optimizer is deprecated. Please use tf.compat.v1.train.Optimizer instead.\n",
      "\n"
     ]
    }
   ],
   "source": [
    "model = Sequential()\n",
    "model.add(LSTM(50,return_sequences = True , input_shape=(100,1)))\n",
    "model.add(LSTM(50,return_sequences = True))\n",
    "model.add(LSTM(50))\n",
    "model.add(Dense(1))\n",
    "model.compile(loss = 'mean_squared_error',optimizer = 'adam')"
   ]
  },
  {
   "cell_type": "markdown",
   "id": "f0d10c79",
   "metadata": {},
   "source": [
    "                                          OPTIMIZERS"
   ]
  },
  {
   "cell_type": "markdown",
   "id": "e14a5532",
   "metadata": {},
   "source": [
    "SGD(stochastic gradient descent) : update model weights based on the gradients of the loss function \n"
   ]
  },
  {
   "cell_type": "markdown",
   "id": "effa2e5c",
   "metadata": {},
   "source": [
    "Adam : combination of both ADAGRAD and RMSprop\n"
   ]
  },
  {
   "cell_type": "markdown",
   "id": "6ff11464",
   "metadata": {},
   "source": [
    "RMSprop : utilizes the moving average of squared gradients for normalizing the gradient descent "
   ]
  },
  {
   "cell_type": "markdown",
   "id": "59a11f86",
   "metadata": {},
   "source": [
    "Adadelta : extension of AdaGrad that adapts learning rates based on a fixed-size window of previous gradient updates.\n"
   ]
  },
  {
   "cell_type": "markdown",
   "id": "bfe6af5c",
   "metadata": {},
   "source": [
    "Adamax: A variant of Adam based on the infinity norm."
   ]
  },
  {
   "cell_type": "code",
   "execution_count": 22,
   "id": "72b236de",
   "metadata": {},
   "outputs": [
    {
     "name": "stdout",
     "output_type": "stream",
     "text": [
      "Model: \"sequential\"\n",
      "_________________________________________________________________\n",
      " Layer (type)                Output Shape              Param #   \n",
      "=================================================================\n",
      " lstm (LSTM)                 (None, 100, 50)           10400     \n",
      "                                                                 \n",
      " lstm_1 (LSTM)               (None, 100, 50)           20200     \n",
      "                                                                 \n",
      " lstm_2 (LSTM)               (None, 50)                20200     \n",
      "                                                                 \n",
      " dense (Dense)               (None, 1)                 51        \n",
      "                                                                 \n",
      "=================================================================\n",
      "Total params: 50851 (198.64 KB)\n",
      "Trainable params: 50851 (198.64 KB)\n",
      "Non-trainable params: 0 (0.00 Byte)\n",
      "_________________________________________________________________\n"
     ]
    }
   ],
   "source": [
    "model.summary()"
   ]
  },
  {
   "cell_type": "code",
   "execution_count": 23,
   "id": "7fe57f3b",
   "metadata": {
    "scrolled": true
   },
   "outputs": [
    {
     "name": "stdout",
     "output_type": "stream",
     "text": [
      "Epoch 1/100\n",
      "WARNING:tensorflow:From C:\\Users\\User\\anaconda3\\Lib\\site-packages\\keras\\src\\utils\\tf_utils.py:492: The name tf.ragged.RaggedTensorValue is deprecated. Please use tf.compat.v1.ragged.RaggedTensorValue instead.\n",
      "\n",
      "12/12 [==============================] - 10s 275ms/step - loss: 0.1822 - val_loss: 0.0286\n",
      "Epoch 2/100\n",
      "12/12 [==============================] - 1s 120ms/step - loss: 0.0162 - val_loss: 0.0279\n",
      "Epoch 3/100\n",
      "12/12 [==============================] - 2s 130ms/step - loss: 0.0083 - val_loss: 0.0145\n",
      "Epoch 4/100\n",
      "12/12 [==============================] - 2s 128ms/step - loss: 0.0039 - val_loss: 0.0108\n",
      "Epoch 5/100\n",
      "12/12 [==============================] - 1s 121ms/step - loss: 0.0020 - val_loss: 0.0051\n",
      "Epoch 6/100\n",
      "12/12 [==============================] - 1s 125ms/step - loss: 0.0011 - val_loss: 0.0022\n",
      "Epoch 7/100\n",
      "12/12 [==============================] - 2s 145ms/step - loss: 9.0223e-04 - val_loss: 0.0015\n",
      "Epoch 8/100\n",
      "12/12 [==============================] - 2s 129ms/step - loss: 9.0571e-04 - val_loss: 0.0015\n",
      "Epoch 9/100\n",
      "12/12 [==============================] - 2s 129ms/step - loss: 9.3134e-04 - val_loss: 0.0018\n",
      "Epoch 10/100\n",
      "12/12 [==============================] - 2s 134ms/step - loss: 9.0584e-04 - val_loss: 0.0019\n",
      "Epoch 11/100\n",
      "12/12 [==============================] - 2s 134ms/step - loss: 8.9152e-04 - val_loss: 0.0018\n",
      "Epoch 12/100\n",
      "12/12 [==============================] - 1s 126ms/step - loss: 8.9392e-04 - val_loss: 0.0016\n",
      "Epoch 13/100\n",
      "12/12 [==============================] - 2s 131ms/step - loss: 9.2181e-04 - val_loss: 0.0015\n",
      "Epoch 14/100\n",
      "12/12 [==============================] - 2s 128ms/step - loss: 9.1733e-04 - val_loss: 0.0015\n",
      "Epoch 15/100\n",
      "12/12 [==============================] - 2s 129ms/step - loss: 9.3812e-04 - val_loss: 0.0016\n",
      "Epoch 16/100\n",
      "12/12 [==============================] - 2s 155ms/step - loss: 9.1603e-04 - val_loss: 0.0015\n",
      "Epoch 17/100\n",
      "12/12 [==============================] - 2s 132ms/step - loss: 0.0010 - val_loss: 0.0013\n",
      "Epoch 18/100\n",
      "12/12 [==============================] - 1s 116ms/step - loss: 9.6027e-04 - val_loss: 0.0012\n",
      "Epoch 19/100\n",
      "12/12 [==============================] - 1s 117ms/step - loss: 9.1125e-04 - val_loss: 0.0011\n",
      "Epoch 20/100\n",
      "12/12 [==============================] - 1s 118ms/step - loss: 8.8584e-04 - val_loss: 0.0012\n",
      "Epoch 21/100\n",
      "12/12 [==============================] - 2s 174ms/step - loss: 8.7751e-04 - val_loss: 0.0012\n",
      "Epoch 22/100\n",
      "12/12 [==============================] - 1s 121ms/step - loss: 9.0248e-04 - val_loss: 0.0011\n",
      "Epoch 23/100\n",
      "12/12 [==============================] - 1s 124ms/step - loss: 8.9461e-04 - val_loss: 0.0010\n",
      "Epoch 24/100\n",
      "12/12 [==============================] - 1s 126ms/step - loss: 8.7542e-04 - val_loss: 0.0011\n",
      "Epoch 25/100\n",
      "12/12 [==============================] - 1s 124ms/step - loss: 8.6106e-04 - val_loss: 0.0010\n",
      "Epoch 26/100\n",
      "12/12 [==============================] - 1s 124ms/step - loss: 8.8113e-04 - val_loss: 9.6051e-04\n",
      "Epoch 27/100\n",
      "12/12 [==============================] - 1s 121ms/step - loss: 8.5963e-04 - val_loss: 8.6430e-04\n",
      "Epoch 28/100\n",
      "12/12 [==============================] - 1s 118ms/step - loss: 8.4894e-04 - val_loss: 9.3364e-04\n",
      "Epoch 29/100\n",
      "12/12 [==============================] - 2s 130ms/step - loss: 8.4706e-04 - val_loss: 8.6013e-04\n",
      "Epoch 30/100\n",
      "12/12 [==============================] - 2s 133ms/step - loss: 8.4766e-04 - val_loss: 8.1870e-04\n",
      "Epoch 31/100\n",
      "12/12 [==============================] - 1s 118ms/step - loss: 8.5463e-04 - val_loss: 7.7059e-04\n",
      "Epoch 32/100\n",
      "12/12 [==============================] - 1s 118ms/step - loss: 8.8853e-04 - val_loss: 7.2338e-04\n",
      "Epoch 33/100\n",
      "12/12 [==============================] - 1s 124ms/step - loss: 8.6809e-04 - val_loss: 7.5842e-04\n",
      "Epoch 34/100\n",
      "12/12 [==============================] - 1s 123ms/step - loss: 9.0198e-04 - val_loss: 5.6775e-04\n",
      "Epoch 35/100\n",
      "12/12 [==============================] - 1s 122ms/step - loss: 8.2118e-04 - val_loss: 5.6036e-04\n",
      "Epoch 36/100\n",
      "12/12 [==============================] - 2s 137ms/step - loss: 9.1663e-04 - val_loss: 5.5828e-04\n",
      "Epoch 37/100\n",
      "12/12 [==============================] - 2s 132ms/step - loss: 8.5003e-04 - val_loss: 5.5515e-04\n",
      "Epoch 38/100\n",
      "12/12 [==============================] - 1s 122ms/step - loss: 8.0733e-04 - val_loss: 5.7096e-04\n",
      "Epoch 39/100\n",
      "12/12 [==============================] - 2s 135ms/step - loss: 8.0596e-04 - val_loss: 6.2053e-04\n",
      "Epoch 40/100\n",
      "12/12 [==============================] - 2s 134ms/step - loss: 9.0593e-04 - val_loss: 3.8717e-04\n",
      "Epoch 41/100\n",
      "12/12 [==============================] - 2s 135ms/step - loss: 8.8424e-04 - val_loss: 5.5752e-04\n",
      "Epoch 42/100\n",
      "12/12 [==============================] - 2s 173ms/step - loss: 8.9135e-04 - val_loss: 3.5849e-04\n",
      "Epoch 43/100\n",
      "12/12 [==============================] - 2s 131ms/step - loss: 8.4247e-04 - val_loss: 4.8089e-04\n",
      "Epoch 44/100\n",
      "12/12 [==============================] - 2s 128ms/step - loss: 8.2289e-04 - val_loss: 3.4511e-04\n",
      "Epoch 45/100\n",
      "12/12 [==============================] - 2s 127ms/step - loss: 7.8702e-04 - val_loss: 3.4225e-04\n",
      "Epoch 46/100\n",
      "12/12 [==============================] - 2s 128ms/step - loss: 8.1895e-04 - val_loss: 3.7698e-04\n",
      "Epoch 47/100\n",
      "12/12 [==============================] - 1s 125ms/step - loss: 8.7941e-04 - val_loss: 2.4334e-04\n",
      "Epoch 48/100\n",
      "12/12 [==============================] - 1s 126ms/step - loss: 7.9900e-04 - val_loss: 3.3899e-04\n",
      "Epoch 49/100\n",
      "12/12 [==============================] - 2s 139ms/step - loss: 7.8334e-04 - val_loss: 3.5890e-04\n",
      "Epoch 50/100\n",
      "12/12 [==============================] - 1s 124ms/step - loss: 8.9530e-04 - val_loss: 2.0093e-04\n",
      "Epoch 51/100\n",
      "12/12 [==============================] - 2s 127ms/step - loss: 7.7932e-04 - val_loss: 3.0548e-04\n",
      "Epoch 52/100\n",
      "12/12 [==============================] - 1s 126ms/step - loss: 0.0011 - val_loss: 1.6808e-04\n",
      "Epoch 53/100\n",
      "12/12 [==============================] - 1s 126ms/step - loss: 7.6237e-04 - val_loss: 2.0020e-04\n",
      "Epoch 54/100\n",
      "12/12 [==============================] - 2s 132ms/step - loss: 8.0407e-04 - val_loss: 1.7148e-04\n",
      "Epoch 55/100\n",
      "12/12 [==============================] - 2s 128ms/step - loss: 8.7411e-04 - val_loss: 9.0029e-05\n",
      "Epoch 56/100\n",
      "12/12 [==============================] - 2s 145ms/step - loss: 8.7292e-04 - val_loss: 1.5736e-04\n",
      "Epoch 57/100\n",
      "12/12 [==============================] - 2s 140ms/step - loss: 7.2830e-04 - val_loss: 1.1301e-04\n",
      "Epoch 58/100\n",
      "12/12 [==============================] - 2s 129ms/step - loss: 7.2432e-04 - val_loss: 1.1796e-04\n",
      "Epoch 59/100\n",
      "12/12 [==============================] - 2s 133ms/step - loss: 7.2958e-04 - val_loss: 9.6975e-05\n",
      "Epoch 60/100\n",
      "12/12 [==============================] - 2s 140ms/step - loss: 7.6350e-04 - val_loss: 7.1943e-05\n",
      "Epoch 61/100\n",
      "12/12 [==============================] - 2s 136ms/step - loss: 7.8151e-04 - val_loss: 7.1624e-05\n",
      "Epoch 62/100\n",
      "12/12 [==============================] - 2s 134ms/step - loss: 7.2293e-04 - val_loss: 1.4921e-04\n",
      "Epoch 63/100\n",
      "12/12 [==============================] - 2s 129ms/step - loss: 7.3601e-04 - val_loss: 8.7925e-05\n",
      "Epoch 64/100\n",
      "12/12 [==============================] - 2s 128ms/step - loss: 7.4906e-04 - val_loss: 7.6574e-05\n",
      "Epoch 65/100\n",
      "12/12 [==============================] - 2s 127ms/step - loss: 7.1344e-04 - val_loss: 5.9078e-05\n",
      "Epoch 66/100\n",
      "12/12 [==============================] - 2s 145ms/step - loss: 8.5380e-04 - val_loss: 9.9087e-05\n",
      "Epoch 67/100\n",
      "12/12 [==============================] - 2s 128ms/step - loss: 7.5459e-04 - val_loss: 1.0089e-04\n",
      "Epoch 68/100\n",
      "12/12 [==============================] - 2s 129ms/step - loss: 7.7210e-04 - val_loss: 5.4469e-05\n",
      "Epoch 69/100\n",
      "12/12 [==============================] - 1s 126ms/step - loss: 0.0010 - val_loss: 9.7290e-05\n",
      "Epoch 70/100\n",
      "12/12 [==============================] - 2s 134ms/step - loss: 7.8068e-04 - val_loss: 4.5440e-05\n",
      "Epoch 71/100\n",
      "12/12 [==============================] - 2s 131ms/step - loss: 6.7383e-04 - val_loss: 6.8136e-05\n",
      "Epoch 72/100\n",
      "12/12 [==============================] - 2s 131ms/step - loss: 6.6340e-04 - val_loss: 4.7373e-05\n",
      "Epoch 73/100\n",
      "12/12 [==============================] - 1s 123ms/step - loss: 7.3960e-04 - val_loss: 3.3069e-05\n",
      "Epoch 74/100\n",
      "12/12 [==============================] - 1s 125ms/step - loss: 7.3036e-04 - val_loss: 7.1231e-05\n"
     ]
    },
    {
     "name": "stdout",
     "output_type": "stream",
     "text": [
      "Epoch 75/100\n",
      "12/12 [==============================] - 2s 142ms/step - loss: 6.9092e-04 - val_loss: 4.3214e-05\n",
      "Epoch 76/100\n",
      "12/12 [==============================] - 2s 130ms/step - loss: 6.5201e-04 - val_loss: 5.2791e-05\n",
      "Epoch 77/100\n",
      "12/12 [==============================] - 1s 123ms/step - loss: 6.7315e-04 - val_loss: 4.7665e-05\n",
      "Epoch 78/100\n",
      "12/12 [==============================] - 1s 122ms/step - loss: 6.6210e-04 - val_loss: 3.5424e-05\n",
      "Epoch 79/100\n",
      "12/12 [==============================] - 2s 137ms/step - loss: 8.3310e-04 - val_loss: 3.2327e-05\n",
      "Epoch 80/100\n",
      "12/12 [==============================] - 2s 143ms/step - loss: 6.1155e-04 - val_loss: 2.1424e-05\n",
      "Epoch 81/100\n",
      "12/12 [==============================] - 2s 134ms/step - loss: 6.3814e-04 - val_loss: 2.5778e-05\n",
      "Epoch 82/100\n",
      "12/12 [==============================] - 2s 147ms/step - loss: 5.8258e-04 - val_loss: 1.9120e-05\n",
      "Epoch 83/100\n",
      "12/12 [==============================] - 1s 123ms/step - loss: 6.8169e-04 - val_loss: 8.1704e-05\n",
      "Epoch 84/100\n",
      "12/12 [==============================] - 1s 121ms/step - loss: 5.8439e-04 - val_loss: 1.5853e-05\n",
      "Epoch 85/100\n",
      "12/12 [==============================] - 1s 117ms/step - loss: 5.9076e-04 - val_loss: 4.5360e-06\n",
      "Epoch 86/100\n",
      "12/12 [==============================] - 2s 127ms/step - loss: 5.8819e-04 - val_loss: 1.4697e-05\n",
      "Epoch 87/100\n",
      "12/12 [==============================] - 1s 121ms/step - loss: 5.7289e-04 - val_loss: 2.2557e-05\n",
      "Epoch 88/100\n",
      "12/12 [==============================] - 2s 134ms/step - loss: 8.3302e-04 - val_loss: 3.8573e-05\n",
      "Epoch 89/100\n",
      "12/12 [==============================] - 2s 135ms/step - loss: 8.3298e-04 - val_loss: 2.6279e-05\n",
      "Epoch 90/100\n",
      "12/12 [==============================] - 2s 144ms/step - loss: 5.6822e-04 - val_loss: 2.5344e-05\n",
      "Epoch 91/100\n",
      "12/12 [==============================] - 2s 154ms/step - loss: 5.3121e-04 - val_loss: 1.8163e-05\n",
      "Epoch 92/100\n",
      "12/12 [==============================] - 2s 136ms/step - loss: 5.4308e-04 - val_loss: 2.2022e-05\n",
      "Epoch 93/100\n",
      "12/12 [==============================] - 1s 117ms/step - loss: 5.9346e-04 - val_loss: 1.2244e-05\n",
      "Epoch 94/100\n",
      "12/12 [==============================] - 1s 120ms/step - loss: 5.6706e-04 - val_loss: 3.6860e-06\n",
      "Epoch 95/100\n",
      "12/12 [==============================] - 1s 125ms/step - loss: 5.5775e-04 - val_loss: 1.7027e-05\n",
      "Epoch 96/100\n",
      "12/12 [==============================] - 1s 127ms/step - loss: 5.0994e-04 - val_loss: 1.0522e-05\n",
      "Epoch 97/100\n",
      "12/12 [==============================] - 1s 126ms/step - loss: 5.8576e-04 - val_loss: 3.1121e-05\n",
      "Epoch 98/100\n",
      "12/12 [==============================] - 1s 126ms/step - loss: 5.7960e-04 - val_loss: 3.4320e-06\n",
      "Epoch 99/100\n",
      "12/12 [==============================] - 1s 121ms/step - loss: 5.1394e-04 - val_loss: 4.7193e-05\n",
      "Epoch 100/100\n",
      "12/12 [==============================] - 1s 122ms/step - loss: 5.8091e-04 - val_loss: 4.3327e-05\n"
     ]
    },
    {
     "data": {
      "text/plain": [
       "<keras.src.callbacks.History at 0x2327c38fa10>"
      ]
     },
     "execution_count": 23,
     "metadata": {},
     "output_type": "execute_result"
    }
   ],
   "source": [
    "model.fit(X_train, y_train, validation_data=(X_test, y_test), epochs=100, batch_size=64, verbose=1)\n"
   ]
  },
  {
   "cell_type": "code",
   "execution_count": 24,
   "id": "ee70f6cf",
   "metadata": {},
   "outputs": [],
   "source": [
    "import tensorflow as tf"
   ]
  },
  {
   "cell_type": "code",
   "execution_count": 25,
   "id": "5fc1c328",
   "metadata": {
    "scrolled": true
   },
   "outputs": [
    {
     "name": "stdout",
     "output_type": "stream",
     "text": [
      "23/23 [==============================] - 2s 26ms/step\n",
      "11/11 [==============================] - 0s 26ms/step\n"
     ]
    }
   ],
   "source": [
    "train_predict = model.predict(X_train)\n",
    "test_predict = model.predict(X_test)"
   ]
  },
  {
   "cell_type": "code",
   "execution_count": 26,
   "id": "2089b2d1",
   "metadata": {},
   "outputs": [],
   "source": [
    "# transform the data present to its original form - reverse sacling of the data present\n",
    "\n",
    "train_predict = scaler.inverse_transform(train_predict)\n",
    "test_predict = scaler.inverse_transform(test_predict)\n"
   ]
  },
  {
   "cell_type": "markdown",
   "id": "73ca0825",
   "metadata": {},
   "source": [
    "ROOT MEAN SQUARED PERFORMANCE MATRIX"
   ]
  },
  {
   "cell_type": "code",
   "execution_count": 27,
   "id": "924a08ef",
   "metadata": {},
   "outputs": [
    {
     "data": {
      "text/plain": [
       "2026.3874205371856"
      ]
     },
     "execution_count": 27,
     "metadata": {},
     "output_type": "execute_result"
    }
   ],
   "source": [
    "import math\n",
    "from sklearn.metrics import mean_squared_error\n",
    "math.sqrt(mean_squared_error(y_train , train_predict))"
   ]
  },
  {
   "cell_type": "code",
   "execution_count": 28,
   "id": "df1ed542",
   "metadata": {},
   "outputs": [
    {
     "data": {
      "text/plain": [
       "135.29084231465887"
      ]
     },
     "execution_count": 28,
     "metadata": {},
     "output_type": "execute_result"
    }
   ],
   "source": [
    "math.sqrt(mean_squared_error(y_test , test_predict))"
   ]
  },
  {
   "cell_type": "markdown",
   "id": "3008ea95",
   "metadata": {},
   "source": [
    "                                              PLOT"
   ]
  },
  {
   "cell_type": "markdown",
   "id": "d4de9f19",
   "metadata": {},
   "source": [
    "Blue - The original data of the dataset"
   ]
  },
  {
   "cell_type": "markdown",
   "id": "ad7b9d47",
   "metadata": {},
   "source": [
    "Yellow - Training dataset"
   ]
  },
  {
   "cell_type": "markdown",
   "id": "8cfe6e81",
   "metadata": {},
   "source": [
    "Green - Test dataset\n"
   ]
  },
  {
   "cell_type": "code",
   "execution_count": 29,
   "id": "ff821535",
   "metadata": {},
   "outputs": [
    {
     "data": {
      "image/png": "[encoded data removed]",
      "text/plain": [
       "<Figure size 640x480 with 1 Axes>"
      ]
     },
     "metadata": {},
     "output_type": "display_data"
    }
   ],
   "source": [
    "look_back = 100\n",
    "\n",
    "\n",
    "trainPredictPlot = np.empty_like(df1)\n",
    "trainPredictPlot[:] = np.nan\n",
    "testPredictPlot = np.empty_like(df1)\n",
    "testPredictPlot[:] = np.nan\n",
    "\n",
    "\n",
    "trainPredictPlot[look_back:len(train_predict) + look_back, :] = train_predict\n",
    "\n",
    "testPredictPlot[len(train_predict) + (look_back*2) + 1:len(df1) - 1, :] = test_predict\n",
    "\n",
    "\n",
    "plt.plot(scaler.inverse_transform(df1))\n",
    "plt.plot(trainPredictPlot)\n",
    "plt.plot(testPredictPlot)\n",
    "plt.show()\n"
   ]
  },
  {
   "cell_type": "code",
   "execution_count": 30,
   "id": "8db0cb9c",
   "metadata": {},
   "outputs": [
    {
     "data": {
      "text/plain": [
       "(1, 100)"
      ]
     },
     "execution_count": 30,
     "metadata": {},
     "output_type": "execute_result"
    }
   ],
   "source": [
    "x_input = test_data[341:].reshape(1,-1)\n",
    "x_input.shape"
   ]
  },
  {
   "cell_type": "code",
   "execution_count": 31,
   "id": "003724f6",
   "metadata": {},
   "outputs": [],
   "source": [
    "x_input = test_data[341:].reshape(1,-1)"
   ]
  },
  {
   "cell_type": "code",
   "execution_count": 32,
   "id": "8b45ec09",
   "metadata": {},
   "outputs": [],
   "source": [
    "temp_input=list(x_input)\n",
    "temp_input=temp_input[0].tolist()"
   ]
  },
  {
   "cell_type": "code",
   "execution_count": 33,
   "id": "ef70a6f7",
   "metadata": {},
   "outputs": [
    {
     "data": {
      "text/plain": [
       "[0.018159546045470525,\n",
       " 0.017702315836884832,\n",
       " 0.0179855255929491,\n",
       " 0.01832674216652051,\n",
       " 0.018510999116249077,\n",
       " 0.017941167438384812,\n",
       " 0.018429107138591933,\n",
       " 0.018937519833213342,\n",
       " 0.018702080397449066,\n",
       " 0.0189272833360062,\n",
       " 0.018882925181441915,\n",
       " 0.017436166909499128,\n",
       " 0.01633403737686347,\n",
       " 0.016296503553770613,\n",
       " 0.016610422801456307,\n",
       " 0.01568231372134207,\n",
       " 0.01636815903422061,\n",
       " 0.016937990712084867,\n",
       " 0.01650123349791346,\n",
       " 0.01763407252217054,\n",
       " 0.01699599752959201,\n",
       " 0.018009410753099104,\n",
       " 0.01791387011249911,\n",
       " 0.01884880352408477,\n",
       " 0.019111540285734755,\n",
       " 0.01900917531366333,\n",
       " 0.019862216747591862,\n",
       " 0.01938110137885617,\n",
       " 0.01879762103804906,\n",
       " 0.019449344693570455,\n",
       " 0.019619952980356164,\n",
       " 0.019036472639549048,\n",
       " 0.018934107667477617,\n",
       " 0.018169782542677666,\n",
       " 0.018565593768020503,\n",
       " 0.019323094561349032,\n",
       " 0.01473373164681355,\n",
       " 0.013631602114177886,\n",
       " 0.013617953451235034,\n",
       " 0.01441981239912785,\n",
       " 0.014266264941020717,\n",
       " 0.015040826563027816,\n",
       " 0.015385455302334951,\n",
       " 0.01599623296902777,\n",
       " 0.01636474686848489,\n",
       " 0.01668890261337774,\n",
       " 0.016982348866649146,\n",
       " 0.016446638846142034,\n",
       " 0.01725532212550628,\n",
       " 0.01711201116460628,\n",
       " 0.017722788831299113,\n",
       " 0.018046944576191954,\n",
       " 0.018838567026877622,\n",
       " 0.018238025857391944,\n",
       " 0.018572418099491925,\n",
       " 0.01881126970099192,\n",
       " 0.019288972903991893,\n",
       " 0.01867478307156335,\n",
       " 0.01861677625405621,\n",
       " 0.01881126970099192,\n",
       " 0.018053768907663383,\n",
       " 0.017207551805206275,\n",
       " 0.017002821861063434,\n",
       " 0.016084949278156336,\n",
       " 0.016685490447642014,\n",
       " 0.01635792253701347,\n",
       " 0.018753262883484775,\n",
       " 0.01813566088532052,\n",
       " 0.01747370073259198,\n",
       " 0.01711201116460628,\n",
       " 0.01722461263388485,\n",
       " 0.01696187587223486,\n",
       " 0.017180254479320572,\n",
       " 0.018323330000784798,\n",
       " 0.01863383708273478,\n",
       " 0.01916613493750618,\n",
       " 0.019896338404949008,\n",
       " 0.020210257652634702,\n",
       " 0.02024437930999184,\n",
       " 0.019773500438463296,\n",
       " 0.01971890578669187,\n",
       " 0.019599479985941876,\n",
       " 0.019132013280149043,\n",
       " 0.019404986539006176,\n",
       " 0.018613364088320494,\n",
       " 0.018391573315499076,\n",
       " 0.019462993356513313,\n",
       " 0.020155663000863275,\n",
       " 0.02057877155209183,\n",
       " 0.020534413397527537,\n",
       " 0.02072890684446325,\n",
       " 0.020674312192691825,\n",
       " 0.02026826447014184,\n",
       " 0.020984819274641808,\n",
       " 0.02200164466388461,\n",
       " 0.021912928354756046,\n",
       " 0.022243908431120316,\n",
       " 0.022813740108984574,\n",
       " 0.023936342636034513,\n",
       " 0.023987525122070228]"
      ]
     },
     "execution_count": 33,
     "metadata": {},
     "output_type": "execute_result"
    }
   ],
   "source": [
    "temp_input"
   ]
  },
  {
   "cell_type": "code",
   "execution_count": 35,
   "id": "f133ba48",
   "metadata": {},
   "outputs": [],
   "source": [
    "from numpy import array\n",
    "\n",
    "def predict_stock_prices(model, initial_input, time_steps=100, prediction_days=30):\n",
    "    lst_output = []\n",
    "    temp_input = initial_input  # Assuming initial_input contains the stock data\n",
    "    n_steps = time_steps\n",
    "    i = 0\n",
    "    \n",
    "    while i < prediction_days:\n",
    "        if len(temp_input) > time_steps:\n",
    "            x_input = array(temp_input[1:]).reshape(1, -1, 1)\n",
    "        else:\n",
    "            x_input = temp_input.reshape((1, n_steps, 1))\n",
    "\n",
    "        yhat = model.predict(x_input, verbose=0)\n",
    "        temp_input = np.append(temp_input, yhat[0])\n",
    "        lst_output.extend(yhat.tolist())\n",
    "        i += 1\n",
    "    \n",
    "    return lst_output\n",
    "\n",
    "# Example usage\n",
    "# Assuming 'model' is your trained model and 'stock_data' is the initial stock data\n",
    "# predicted_prices = predict_stock_prices(model, stock_data, time_steps, prediction_days)\n"
   ]
  },
  {
   "cell_type": "code",
   "execution_count": 36,
   "id": "272aeb6b",
   "metadata": {},
   "outputs": [],
   "source": [
    "day_new=np.arange(1,101)\n",
    "day_pred=np.arange(101,131)"
   ]
  },
  {
   "cell_type": "code",
   "execution_count": 37,
   "id": "360db6f5",
   "metadata": {},
   "outputs": [
    {
     "data": {
      "text/plain": [
       "1258"
      ]
     },
     "execution_count": 37,
     "metadata": {},
     "output_type": "execute_result"
    }
   ],
   "source": [
    "len(df1)"
   ]
  },
  {
   "cell_type": "code",
   "execution_count": 40,
   "id": "420b1933",
   "metadata": {},
   "outputs": [
    {
     "data": {
      "text/plain": [
       "[<matplotlib.lines.Line2D at 0x2320a164750>]"
      ]
     },
     "execution_count": 40,
     "metadata": {},
     "output_type": "execute_result"
    },
    {
     "data": {
      "image/png": "[encoded data removed]",
      "text/plain": [
       "<Figure size 640x480 with 1 Axes>"
      ]
     },
     "metadata": {},
     "output_type": "display_data"
    }
   ],
   "source": [
    "df3=df1.tolist()\n",
    "df3.extend(lst_output)\n",
    "plt.plot(df3[1200:])"
   ]
  },
  {
   "cell_type": "code",
   "execution_count": 41,
   "id": "7ae8bfcd",
   "metadata": {},
   "outputs": [
    {
     "data": {
      "text/plain": [
       "[<matplotlib.lines.Line2D at 0x2320a14ea90>]"
      ]
     },
     "execution_count": 41,
     "metadata": {},
     "output_type": "execute_result"
    },
    {
     "data": {
      "image/png": "[encoded data removed]",
      "text/plain": [
       "<Figure size 640x480 with 1 Axes>"
      ]
     },
     "metadata": {},
     "output_type": "display_data"
    }
   ],
   "source": [
    "df3=scaler.inverse_transform(df3).tolist()\n",
    "plt.plot(df3)"
   ]
  }
 ],
 "metadata": {
  "kernelspec": {
   "display_name": "Python 3 (ipykernel)",
   "language": "python",
   "name": "python3"
  },
  "language_info": {
   "codemirror_mode": {
    "name": "ipython",
    "version": 3
   },
   "file_extension": ".py",
   "mimetype": "text/x-python",
   "name": "python",
   "nbconvert_exporter": "python",
   "pygments_lexer": "ipython3",
   "version": "3.11.4"
  }
 },
 "nbformat": 4,
 "nbformat_minor": 5
}
