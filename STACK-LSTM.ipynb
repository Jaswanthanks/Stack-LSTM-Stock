{
 "cells": [
  {
   "cell_type": "code",
   "execution_count": 1,
   "id": "bdc03356",
   "metadata": {},
   "outputs": [],
   "source": [
    "import pandas_datareader as pdr"
   ]
  },
  {
   "cell_type": "code",
   "execution_count": 2,
   "id": "b6f90aba",
   "metadata": {},
   "outputs": [],
   "source": [
    "key = 'e1781913d1c61e79a9f9a41945328bcd102ebbc8'"
   ]
  },
  {
   "cell_type": "code",
   "execution_count": 3,
   "id": "f85c72d6",
   "metadata": {
    "scrolled": true
   },
   "outputs": [
    {
     "name": "stderr",
     "output_type": "stream",
     "text": [
      "C:\\Users\\User\\AppData\\Local\\Temp\\ipykernel_2564\\1593133401.py:1: FutureWarning: In a future version of pandas all arguments of concat except for the argument 'objs' will be keyword-only.\n",
      "  df = pdr.get_data_tiingo('AAPL', api_key=key)\n"
     ]
    }
   ],
   "source": [
    "df = pdr.get_data_tiingo('AAPL', api_key=key)"
   ]
  },
  {
   "cell_type": "code",
   "execution_count": 4,
   "id": "495ce967",
   "metadata": {},
   "outputs": [],
   "source": [
    "df.to_csv('AAPL.csv')"
   ]
  },
  {
   "cell_type": "code",
   "execution_count": 5,
   "id": "a8c82d6c",
   "metadata": {},
   "outputs": [],
   "source": [
    "import pandas as pd"
   ]
  },
  {
   "cell_type": "code",
   "execution_count": 6,
   "id": "cf2211fb",
   "metadata": {},
   "outputs": [
    {
     "data": {
      "text/html": [
       "<div>\n",
       "<style scoped>\n",
       "    .dataframe tbody tr th:only-of-type {\n",
       "        vertical-align: middle;\n",
       "    }\n",
       "\n",
       "    .dataframe tbody tr th {\n",
       "        vertical-align: top;\n",
       "    }\n",
       "\n",
       "    .dataframe thead th {\n",
       "        text-align: right;\n",
       "    }\n",
       "</style>\n",
       "<table border=\"1\" class=\"dataframe\">\n",
       "  <thead>\n",
       "    <tr style=\"text-align: right;\">\n",
       "      <th></th>\n",
       "      <th>symbol</th>\n",
       "      <th>date</th>\n",
       "      <th>close</th>\n",
       "      <th>high</th>\n",
       "      <th>low</th>\n",
       "      <th>open</th>\n",
       "      <th>volume</th>\n",
       "      <th>adjClose</th>\n",
       "      <th>adjHigh</th>\n",
       "      <th>adjLow</th>\n",
       "      <th>adjOpen</th>\n",
       "      <th>adjVolume</th>\n",
       "      <th>divCash</th>\n",
       "      <th>splitFactor</th>\n",
       "    </tr>\n",
       "  </thead>\n",
       "  <tbody>\n",
       "    <tr>\n",
       "      <th>0</th>\n",
       "      <td>AAPL</td>\n",
       "      <td>2019-01-29 00:00:00+00:00</td>\n",
       "      <td>154.68</td>\n",
       "      <td>158.1300</td>\n",
       "      <td>154.1100</td>\n",
       "      <td>156.25</td>\n",
       "      <td>41587239</td>\n",
       "      <td>37.114721</td>\n",
       "      <td>37.942532</td>\n",
       "      <td>36.977952</td>\n",
       "      <td>37.491435</td>\n",
       "      <td>166348956</td>\n",
       "      <td>0.0</td>\n",
       "      <td>1.0</td>\n",
       "    </tr>\n",
       "    <tr>\n",
       "      <th>1</th>\n",
       "      <td>AAPL</td>\n",
       "      <td>2019-01-30 00:00:00+00:00</td>\n",
       "      <td>165.25</td>\n",
       "      <td>166.1500</td>\n",
       "      <td>160.2300</td>\n",
       "      <td>163.25</td>\n",
       "      <td>61109780</td>\n",
       "      <td>39.650942</td>\n",
       "      <td>39.866893</td>\n",
       "      <td>38.446417</td>\n",
       "      <td>39.171051</td>\n",
       "      <td>244439120</td>\n",
       "      <td>0.0</td>\n",
       "      <td>1.0</td>\n",
       "    </tr>\n",
       "    <tr>\n",
       "      <th>2</th>\n",
       "      <td>AAPL</td>\n",
       "      <td>2019-01-31 00:00:00+00:00</td>\n",
       "      <td>166.44</td>\n",
       "      <td>169.0000</td>\n",
       "      <td>164.5600</td>\n",
       "      <td>166.11</td>\n",
       "      <td>40739649</td>\n",
       "      <td>39.936477</td>\n",
       "      <td>40.550736</td>\n",
       "      <td>39.485380</td>\n",
       "      <td>39.857295</td>\n",
       "      <td>162958596</td>\n",
       "      <td>0.0</td>\n",
       "      <td>1.0</td>\n",
       "    </tr>\n",
       "    <tr>\n",
       "      <th>3</th>\n",
       "      <td>AAPL</td>\n",
       "      <td>2019-02-01 00:00:00+00:00</td>\n",
       "      <td>166.52</td>\n",
       "      <td>168.9800</td>\n",
       "      <td>165.9300</td>\n",
       "      <td>166.96</td>\n",
       "      <td>32668138</td>\n",
       "      <td>39.955672</td>\n",
       "      <td>40.545937</td>\n",
       "      <td>39.814105</td>\n",
       "      <td>40.061248</td>\n",
       "      <td>130672552</td>\n",
       "      <td>0.0</td>\n",
       "      <td>1.0</td>\n",
       "    </tr>\n",
       "    <tr>\n",
       "      <th>4</th>\n",
       "      <td>AAPL</td>\n",
       "      <td>2019-02-04 00:00:00+00:00</td>\n",
       "      <td>171.25</td>\n",
       "      <td>171.6600</td>\n",
       "      <td>167.2800</td>\n",
       "      <td>167.41</td>\n",
       "      <td>31495582</td>\n",
       "      <td>41.090613</td>\n",
       "      <td>41.188990</td>\n",
       "      <td>40.138031</td>\n",
       "      <td>40.169223</td>\n",
       "      <td>125982328</td>\n",
       "      <td>0.0</td>\n",
       "      <td>1.0</td>\n",
       "    </tr>\n",
       "    <tr>\n",
       "      <th>...</th>\n",
       "      <td>...</td>\n",
       "      <td>...</td>\n",
       "      <td>...</td>\n",
       "      <td>...</td>\n",
       "      <td>...</td>\n",
       "      <td>...</td>\n",
       "      <td>...</td>\n",
       "      <td>...</td>\n",
       "      <td>...</td>\n",
       "      <td>...</td>\n",
       "      <td>...</td>\n",
       "      <td>...</td>\n",
       "      <td>...</td>\n",
       "      <td>...</td>\n",
       "    </tr>\n",
       "    <tr>\n",
       "      <th>1253</th>\n",
       "      <td>AAPL</td>\n",
       "      <td>2024-01-22 00:00:00+00:00</td>\n",
       "      <td>193.89</td>\n",
       "      <td>195.3300</td>\n",
       "      <td>192.2600</td>\n",
       "      <td>192.30</td>\n",
       "      <td>60133852</td>\n",
       "      <td>193.890000</td>\n",
       "      <td>195.330000</td>\n",
       "      <td>192.260000</td>\n",
       "      <td>192.300000</td>\n",
       "      <td>60133852</td>\n",
       "      <td>0.0</td>\n",
       "      <td>1.0</td>\n",
       "    </tr>\n",
       "    <tr>\n",
       "      <th>1254</th>\n",
       "      <td>AAPL</td>\n",
       "      <td>2024-01-23 00:00:00+00:00</td>\n",
       "      <td>195.18</td>\n",
       "      <td>195.7500</td>\n",
       "      <td>193.8299</td>\n",
       "      <td>195.02</td>\n",
       "      <td>42355590</td>\n",
       "      <td>195.180000</td>\n",
       "      <td>195.750000</td>\n",
       "      <td>193.829900</td>\n",
       "      <td>195.020000</td>\n",
       "      <td>42355590</td>\n",
       "      <td>0.0</td>\n",
       "      <td>1.0</td>\n",
       "    </tr>\n",
       "    <tr>\n",
       "      <th>1255</th>\n",
       "      <td>AAPL</td>\n",
       "      <td>2024-01-24 00:00:00+00:00</td>\n",
       "      <td>194.50</td>\n",
       "      <td>196.3800</td>\n",
       "      <td>194.3400</td>\n",
       "      <td>195.42</td>\n",
       "      <td>53463269</td>\n",
       "      <td>194.500000</td>\n",
       "      <td>196.380000</td>\n",
       "      <td>194.340000</td>\n",
       "      <td>195.420000</td>\n",
       "      <td>53463269</td>\n",
       "      <td>0.0</td>\n",
       "      <td>1.0</td>\n",
       "    </tr>\n",
       "    <tr>\n",
       "      <th>1256</th>\n",
       "      <td>AAPL</td>\n",
       "      <td>2024-01-25 00:00:00+00:00</td>\n",
       "      <td>194.17</td>\n",
       "      <td>196.2675</td>\n",
       "      <td>193.1125</td>\n",
       "      <td>195.22</td>\n",
       "      <td>54822126</td>\n",
       "      <td>194.170000</td>\n",
       "      <td>196.267500</td>\n",
       "      <td>193.112500</td>\n",
       "      <td>195.220000</td>\n",
       "      <td>54822126</td>\n",
       "      <td>0.0</td>\n",
       "      <td>1.0</td>\n",
       "    </tr>\n",
       "    <tr>\n",
       "      <th>1257</th>\n",
       "      <td>AAPL</td>\n",
       "      <td>2024-01-26 00:00:00+00:00</td>\n",
       "      <td>192.42</td>\n",
       "      <td>194.7600</td>\n",
       "      <td>191.9400</td>\n",
       "      <td>194.27</td>\n",
       "      <td>44594011</td>\n",
       "      <td>192.420000</td>\n",
       "      <td>194.760000</td>\n",
       "      <td>191.940000</td>\n",
       "      <td>194.270000</td>\n",
       "      <td>44594011</td>\n",
       "      <td>0.0</td>\n",
       "      <td>1.0</td>\n",
       "    </tr>\n",
       "  </tbody>\n",
       "</table>\n",
       "<p>1258 rows × 14 columns</p>\n",
       "</div>"
      ],
      "text/plain": [
       "     symbol                       date   close      high       low    open  \\\n",
       "0      AAPL  2019-01-29 00:00:00+00:00  154.68  158.1300  154.1100  156.25   \n",
       "1      AAPL  2019-01-30 00:00:00+00:00  165.25  166.1500  160.2300  163.25   \n",
       "2      AAPL  2019-01-31 00:00:00+00:00  166.44  169.0000  164.5600  166.11   \n",
       "3      AAPL  2019-02-01 00:00:00+00:00  166.52  168.9800  165.9300  166.96   \n",
       "4      AAPL  2019-02-04 00:00:00+00:00  171.25  171.6600  167.2800  167.41   \n",
       "...     ...                        ...     ...       ...       ...     ...   \n",
       "1253   AAPL  2024-01-22 00:00:00+00:00  193.89  195.3300  192.2600  192.30   \n",
       "1254   AAPL  2024-01-23 00:00:00+00:00  195.18  195.7500  193.8299  195.02   \n",
       "1255   AAPL  2024-01-24 00:00:00+00:00  194.50  196.3800  194.3400  195.42   \n",
       "1256   AAPL  2024-01-25 00:00:00+00:00  194.17  196.2675  193.1125  195.22   \n",
       "1257   AAPL  2024-01-26 00:00:00+00:00  192.42  194.7600  191.9400  194.27   \n",
       "\n",
       "        volume    adjClose     adjHigh      adjLow     adjOpen  adjVolume  \\\n",
       "0     41587239   37.114721   37.942532   36.977952   37.491435  166348956   \n",
       "1     61109780   39.650942   39.866893   38.446417   39.171051  244439120   \n",
       "2     40739649   39.936477   40.550736   39.485380   39.857295  162958596   \n",
       "3     32668138   39.955672   40.545937   39.814105   40.061248  130672552   \n",
       "4     31495582   41.090613   41.188990   40.138031   40.169223  125982328   \n",
       "...        ...         ...         ...         ...         ...        ...   \n",
       "1253  60133852  193.890000  195.330000  192.260000  192.300000   60133852   \n",
       "1254  42355590  195.180000  195.750000  193.829900  195.020000   42355590   \n",
       "1255  53463269  194.500000  196.380000  194.340000  195.420000   53463269   \n",
       "1256  54822126  194.170000  196.267500  193.112500  195.220000   54822126   \n",
       "1257  44594011  192.420000  194.760000  191.940000  194.270000   44594011   \n",
       "\n",
       "      divCash  splitFactor  \n",
       "0         0.0          1.0  \n",
       "1         0.0          1.0  \n",
       "2         0.0          1.0  \n",
       "3         0.0          1.0  \n",
       "4         0.0          1.0  \n",
       "...       ...          ...  \n",
       "1253      0.0          1.0  \n",
       "1254      0.0          1.0  \n",
       "1255      0.0          1.0  \n",
       "1256      0.0          1.0  \n",
       "1257      0.0          1.0  \n",
       "\n",
       "[1258 rows x 14 columns]"
      ]
     },
     "execution_count": 6,
     "metadata": {},
     "output_type": "execute_result"
    }
   ],
   "source": [
    "df = pd.read_csv('AAPL.csv')\n",
    "df"
   ]
  },
  {
   "cell_type": "code",
   "execution_count": 7,
   "id": "273c7abc",
   "metadata": {},
   "outputs": [],
   "source": [
    "df1 = df.reset_index()['close']"
   ]
  },
  {
   "cell_type": "code",
   "execution_count": 8,
   "id": "784c7791",
   "metadata": {},
   "outputs": [
    {
     "data": {
      "text/plain": [
       "(1258, 14)"
      ]
     },
     "execution_count": 8,
     "metadata": {},
     "output_type": "execute_result"
    }
   ],
   "source": [
    "df.shape"
   ]
  },
  {
   "cell_type": "code",
   "execution_count": 9,
   "id": "7fb55f77",
   "metadata": {},
   "outputs": [
    {
     "data": {
      "text/html": [
       "<div>\n",
       "<style scoped>\n",
       "    .dataframe tbody tr th:only-of-type {\n",
       "        vertical-align: middle;\n",
       "    }\n",
       "\n",
       "    .dataframe tbody tr th {\n",
       "        vertical-align: top;\n",
       "    }\n",
       "\n",
       "    .dataframe thead th {\n",
       "        text-align: right;\n",
       "    }\n",
       "</style>\n",
       "<table border=\"1\" class=\"dataframe\">\n",
       "  <thead>\n",
       "    <tr style=\"text-align: right;\">\n",
       "      <th></th>\n",
       "      <th>symbol</th>\n",
       "      <th>date</th>\n",
       "      <th>close</th>\n",
       "      <th>high</th>\n",
       "      <th>low</th>\n",
       "      <th>open</th>\n",
       "      <th>volume</th>\n",
       "      <th>adjClose</th>\n",
       "      <th>adjHigh</th>\n",
       "      <th>adjLow</th>\n",
       "      <th>adjOpen</th>\n",
       "      <th>adjVolume</th>\n",
       "      <th>divCash</th>\n",
       "      <th>splitFactor</th>\n",
       "    </tr>\n",
       "  </thead>\n",
       "  <tbody>\n",
       "    <tr>\n",
       "      <th>1228</th>\n",
       "      <td>AAPL</td>\n",
       "      <td>2023-12-13 00:00:00+00:00</td>\n",
       "      <td>197.96</td>\n",
       "      <td>198.0000</td>\n",
       "      <td>194.85</td>\n",
       "      <td>195.09</td>\n",
       "      <td>70404183</td>\n",
       "      <td>197.96</td>\n",
       "      <td>198.0000</td>\n",
       "      <td>194.85</td>\n",
       "      <td>195.09</td>\n",
       "      <td>70404183</td>\n",
       "      <td>0.0</td>\n",
       "      <td>1.0</td>\n",
       "    </tr>\n",
       "    <tr>\n",
       "      <th>1229</th>\n",
       "      <td>AAPL</td>\n",
       "      <td>2023-12-14 00:00:00+00:00</td>\n",
       "      <td>198.11</td>\n",
       "      <td>199.6200</td>\n",
       "      <td>196.16</td>\n",
       "      <td>198.02</td>\n",
       "      <td>66831572</td>\n",
       "      <td>198.11</td>\n",
       "      <td>199.6200</td>\n",
       "      <td>196.16</td>\n",
       "      <td>198.02</td>\n",
       "      <td>66831572</td>\n",
       "      <td>0.0</td>\n",
       "      <td>1.0</td>\n",
       "    </tr>\n",
       "    <tr>\n",
       "      <th>1230</th>\n",
       "      <td>AAPL</td>\n",
       "      <td>2023-12-15 00:00:00+00:00</td>\n",
       "      <td>197.57</td>\n",
       "      <td>198.3999</td>\n",
       "      <td>197.00</td>\n",
       "      <td>197.53</td>\n",
       "      <td>128538401</td>\n",
       "      <td>197.57</td>\n",
       "      <td>198.3999</td>\n",
       "      <td>197.00</td>\n",
       "      <td>197.53</td>\n",
       "      <td>128538401</td>\n",
       "      <td>0.0</td>\n",
       "      <td>1.0</td>\n",
       "    </tr>\n",
       "    <tr>\n",
       "      <th>1231</th>\n",
       "      <td>AAPL</td>\n",
       "      <td>2023-12-18 00:00:00+00:00</td>\n",
       "      <td>195.89</td>\n",
       "      <td>196.6300</td>\n",
       "      <td>194.39</td>\n",
       "      <td>196.09</td>\n",
       "      <td>55751861</td>\n",
       "      <td>195.89</td>\n",
       "      <td>196.6300</td>\n",
       "      <td>194.39</td>\n",
       "      <td>196.09</td>\n",
       "      <td>55751861</td>\n",
       "      <td>0.0</td>\n",
       "      <td>1.0</td>\n",
       "    </tr>\n",
       "    <tr>\n",
       "      <th>1232</th>\n",
       "      <td>AAPL</td>\n",
       "      <td>2023-12-19 00:00:00+00:00</td>\n",
       "      <td>196.94</td>\n",
       "      <td>196.9500</td>\n",
       "      <td>195.89</td>\n",
       "      <td>196.16</td>\n",
       "      <td>40233138</td>\n",
       "      <td>196.94</td>\n",
       "      <td>196.9500</td>\n",
       "      <td>195.89</td>\n",
       "      <td>196.16</td>\n",
       "      <td>40233138</td>\n",
       "      <td>0.0</td>\n",
       "      <td>1.0</td>\n",
       "    </tr>\n",
       "  </tbody>\n",
       "</table>\n",
       "</div>"
      ],
      "text/plain": [
       "     symbol                       date   close      high     low    open  \\\n",
       "1228   AAPL  2023-12-13 00:00:00+00:00  197.96  198.0000  194.85  195.09   \n",
       "1229   AAPL  2023-12-14 00:00:00+00:00  198.11  199.6200  196.16  198.02   \n",
       "1230   AAPL  2023-12-15 00:00:00+00:00  197.57  198.3999  197.00  197.53   \n",
       "1231   AAPL  2023-12-18 00:00:00+00:00  195.89  196.6300  194.39  196.09   \n",
       "1232   AAPL  2023-12-19 00:00:00+00:00  196.94  196.9500  195.89  196.16   \n",
       "\n",
       "         volume  adjClose   adjHigh  adjLow  adjOpen  adjVolume  divCash  \\\n",
       "1228   70404183    197.96  198.0000  194.85   195.09   70404183      0.0   \n",
       "1229   66831572    198.11  199.6200  196.16   198.02   66831572      0.0   \n",
       "1230  128538401    197.57  198.3999  197.00   197.53  128538401      0.0   \n",
       "1231   55751861    195.89  196.6300  194.39   196.09   55751861      0.0   \n",
       "1232   40233138    196.94  196.9500  195.89   196.16   40233138      0.0   \n",
       "\n",
       "      splitFactor  \n",
       "1228          1.0  \n",
       "1229          1.0  \n",
       "1230          1.0  \n",
       "1231          1.0  \n",
       "1232          1.0  "
      ]
     },
     "execution_count": 9,
     "metadata": {},
     "output_type": "execute_result"
    }
   ],
   "source": [
    "df[1228:].head()"
   ]
  },
  {
   "cell_type": "code",
   "execution_count": 10,
   "id": "a9deb9b5",
   "metadata": {},
   "outputs": [
    {
     "data": {
      "text/plain": [
       "[<matplotlib.lines.Line2D at 0x14f78622c10>]"
      ]
     },
     "execution_count": 10,
     "metadata": {},
     "output_type": "execute_result"
    },
    {
     "data": {
      "image/png": "[encoded data removed]",
      "text/plain": [
       "<Figure size 640x480 with 1 Axes>"
      ]
     },
     "metadata": {},
     "output_type": "display_data"
    }
   ],
   "source": [
    "import matplotlib.pyplot as plt\n",
    "plt.plot(df1)"
   ]
  },
  {
   "cell_type": "markdown",
   "id": "6644827f",
   "metadata": {},
   "source": [
    "LSTM are sensitive to the scale of the data , so we apply MiniMax scaler"
   ]
  },
  {
   "cell_type": "code",
   "execution_count": 11,
   "id": "1d3b92bf",
   "metadata": {},
   "outputs": [],
   "source": [
    "import numpy as np"
   ]
  },
  {
   "cell_type": "code",
   "execution_count": 12,
   "id": "4f7fd21d",
   "metadata": {},
   "outputs": [],
   "source": [
    "from sklearn.preprocessing import MinMaxScaler\n",
    "scaler = MinMaxScaler(feature_range = (0,1))\n",
    "df1 = scaler.fit_transform(np.array(df1).reshape(-1,1))"
   ]
  },
  {
   "cell_type": "code",
   "execution_count": 13,
   "id": "b6a5c82e",
   "metadata": {},
   "outputs": [
    {
     "data": {
      "text/plain": [
       "(1258, 1)"
      ]
     },
     "execution_count": 13,
     "metadata": {},
     "output_type": "execute_result"
    }
   ],
   "source": [
    "df1.shape"
   ]
  },
  {
   "cell_type": "code",
   "execution_count": 14,
   "id": "176a3e82",
   "metadata": {},
   "outputs": [
    {
     "data": {
      "text/plain": [
       "array([[0.11982467],\n",
       "       [0.14629931],\n",
       "       [0.1492799 ],\n",
       "       ...,\n",
       "       [0.21956168],\n",
       "       [0.21873513],\n",
       "       [0.21435191]])"
      ]
     },
     "execution_count": 14,
     "metadata": {},
     "output_type": "execute_result"
    }
   ],
   "source": [
    "df1"
   ]
  },
  {
   "cell_type": "markdown",
   "id": "eb9190ae",
   "metadata": {},
   "source": [
    "                           SPLITTING THE DATASET INTO TRAIN AND TEST DATA"
   ]
  },
  {
   "cell_type": "code",
   "execution_count": 15,
   "id": "25a8b6d7",
   "metadata": {},
   "outputs": [],
   "source": [
    "from sklearn.model_selection import train_test_split\n",
    "training_set = int(len(df1)*0.65)\n",
    "test_set = len(df1) - training_set\n",
    "train_data , test_data = df1[0:training_set,:] , df1[training_set:len(df1):]"
   ]
  },
  {
   "cell_type": "code",
   "execution_count": 27,
   "id": "4c9ea6e2",
   "metadata": {},
   "outputs": [],
   "source": [
    "import numpy \n",
    "def create_dataset(dataset,time_step = 1):\n",
    "    dataX,dataY = [],[]\n",
    "    for i in range(len(dataset)-time_step-1):\n",
    "        a = dataset[i:(i+time_step),0]\n",
    "        dataX.append(a)\n",
    "        dataY.append(dataset[i+time_step,0])\n",
    "    return numpy.array(dataX),numpy.array(dataY)"
   ]
  },
  {
   "cell_type": "code",
   "execution_count": 28,
   "id": "73dd4400",
   "metadata": {},
   "outputs": [],
   "source": [
    "time_step = 100\n",
    "X_train , y_train = create_dataset(train_data , time_step)\n",
    "X_test , y_test = create_dataset(test_data , time_step)"
   ]
  },
  {
   "cell_type": "code",
   "execution_count": 29,
   "id": "e2d6e069",
   "metadata": {},
   "outputs": [
    {
     "name": "stdout",
     "output_type": "stream",
     "text": [
      "(716, 100)\n",
      "(716,)\n"
     ]
    },
    {
     "data": {
      "text/plain": [
       "(None, None)"
      ]
     },
     "execution_count": 29,
     "metadata": {},
     "output_type": "execute_result"
    }
   ],
   "source": [
    "print(X_train.shape) , print(y_train.shape)"
   ]
  },
  {
   "cell_type": "code",
   "execution_count": 30,
   "id": "385c0daf",
   "metadata": {},
   "outputs": [
    {
     "name": "stdout",
     "output_type": "stream",
     "text": [
      "(340, 100)\n",
      "(340,)\n"
     ]
    },
    {
     "data": {
      "text/plain": [
       "(None, None)"
      ]
     },
     "execution_count": 30,
     "metadata": {},
     "output_type": "execute_result"
    }
   ],
   "source": [
    "print(X_test.shape) , print(y_test.shape)"
   ]
  },
  {
   "cell_type": "markdown",
   "id": "a6ad37c3",
   "metadata": {},
   "source": [
    "X_train =X_train.reshape(X_train.shape[0] , X_train.shape[1],1)\n",
    "X_test =X_test.reshape(X_test.shape[0] , X_test.shape[1],1)"
   ]
  },
  {
   "cell_type": "markdown",
   "id": "66bbe6a8",
   "metadata": {},
   "source": [
    "                                         STACK LSTM MODEL"
   ]
  },
  {
   "cell_type": "code",
   "execution_count": 36,
   "id": "f97e3eea",
   "metadata": {},
   "outputs": [],
   "source": [
    "from tensorflow.keras.models import Sequential\n",
    "from tensorflow.keras.layers import Dense\n",
    "from tensorflow.keras.layers import LSTM"
   ]
  },
  {
   "cell_type": "code",
   "execution_count": 40,
   "id": "ae3ace3c",
   "metadata": {},
   "outputs": [
    {
     "name": "stdout",
     "output_type": "stream",
     "text": [
      "WARNING:tensorflow:From C:\\Users\\User\\anaconda3\\Lib\\site-packages\\keras\\src\\optimizers\\__init__.py:309: The name tf.train.Optimizer is deprecated. Please use tf.compat.v1.train.Optimizer instead.\n",
      "\n"
     ]
    }
   ],
   "source": [
    "model = Sequential()\n",
    "model.add(LSTM(50,return_sequences = True , input_shape=(100,1)))\n",
    "model.add(LSTM(50,return_sequences = True))\n",
    "model.add(LSTM(50))\n",
    "model.add(Dense(1))\n",
    "model.compile(loss = 'mean_squared_error',optimizer = 'adam')"
   ]
  },
  {
   "cell_type": "markdown",
   "id": "4dfb0422",
   "metadata": {},
   "source": [
    "                                          OPTIMIZERS"
   ]
  },
  {
   "cell_type": "markdown",
   "id": "25f78d06",
   "metadata": {},
   "source": [
    "SGD(stochastic gradient descent) : update model weights based on the gradients of the loss function \n"
   ]
  },
  {
   "cell_type": "markdown",
   "id": "aaa7609a",
   "metadata": {},
   "source": [
    "Adam : combination of both ADAGRAD and RMSprop\n"
   ]
  },
  {
   "cell_type": "markdown",
   "id": "02a48e84",
   "metadata": {},
   "source": [
    "RMSprop : utilizes the moving average of squared gradients for normalizing the gradient descent "
   ]
  },
  {
   "cell_type": "markdown",
   "id": "5359b15c",
   "metadata": {},
   "source": [
    "Adadelta : extension of AdaGrad that adapts learning rates based on a fixed-size window of previous gradient updates.\n"
   ]
  },
  {
   "cell_type": "markdown",
   "id": "da7e4bcc",
   "metadata": {},
   "source": [
    "Adamax: A variant of Adam based on the infinity norm."
   ]
  },
  {
   "cell_type": "code",
   "execution_count": 41,
   "id": "6d1328bc",
   "metadata": {},
   "outputs": [
    {
     "name": "stdout",
     "output_type": "stream",
     "text": [
      "Model: \"sequential_3\"\n",
      "_________________________________________________________________\n",
      " Layer (type)                Output Shape              Param #   \n",
      "=================================================================\n",
      " lstm_3 (LSTM)               (None, 100, 50)           10400     \n",
      "                                                                 \n",
      " lstm_4 (LSTM)               (None, 100, 50)           20200     \n",
      "                                                                 \n",
      " lstm_5 (LSTM)               (None, 50)                20200     \n",
      "                                                                 \n",
      " dense (Dense)               (None, 1)                 51        \n",
      "                                                                 \n",
      "=================================================================\n",
      "Total params: 50851 (198.64 KB)\n",
      "Trainable params: 50851 (198.64 KB)\n",
      "Non-trainable params: 0 (0.00 Byte)\n",
      "_________________________________________________________________\n"
     ]
    }
   ],
   "source": [
    "model.summary()"
   ]
  },
  {
   "cell_type": "code",
   "execution_count": 43,
   "id": "77d2e9a2",
   "metadata": {
    "scrolled": true
   },
   "outputs": [
    {
     "name": "stdout",
     "output_type": "stream",
     "text": [
      "Epoch 1/100\n",
      "WARNING:tensorflow:From C:\\Users\\User\\anaconda3\\Lib\\site-packages\\keras\\src\\utils\\tf_utils.py:492: The name tf.ragged.RaggedTensorValue is deprecated. Please use tf.compat.v1.ragged.RaggedTensorValue instead.\n",
      "\n",
      "12/12 [==============================] - 10s 271ms/step - loss: 0.0329 - val_loss: 7.7390e-04\n",
      "Epoch 2/100\n",
      "12/12 [==============================] - 1s 125ms/step - loss: 0.0113 - val_loss: 3.1170e-04\n",
      "Epoch 3/100\n",
      "12/12 [==============================] - 1s 125ms/step - loss: 0.0096 - val_loss: 2.8564e-04\n",
      "Epoch 4/100\n",
      "12/12 [==============================] - 1s 123ms/step - loss: 0.0082 - val_loss: 4.3987e-04\n",
      "Epoch 5/100\n",
      "12/12 [==============================] - 1s 123ms/step - loss: 0.0073 - val_loss: 2.5091e-04\n",
      "Epoch 6/100\n",
      "12/12 [==============================] - 1s 123ms/step - loss: 0.0064 - val_loss: 2.5202e-04\n",
      "Epoch 7/100\n",
      "12/12 [==============================] - 2s 134ms/step - loss: 0.0057 - val_loss: 8.9036e-04\n",
      "Epoch 8/100\n",
      "12/12 [==============================] - 1s 124ms/step - loss: 0.0053 - val_loss: 2.5160e-04\n",
      "Epoch 9/100\n",
      "12/12 [==============================] - 1s 124ms/step - loss: 0.0048 - val_loss: 2.2179e-04\n",
      "Epoch 10/100\n",
      "12/12 [==============================] - 2s 127ms/step - loss: 0.0048 - val_loss: 4.8146e-04\n",
      "Epoch 11/100\n",
      "12/12 [==============================] - 1s 125ms/step - loss: 0.0048 - val_loss: 3.4635e-04\n",
      "Epoch 12/100\n",
      "12/12 [==============================] - 1s 126ms/step - loss: 0.0048 - val_loss: 2.0518e-04\n",
      "Epoch 13/100\n",
      "12/12 [==============================] - 1s 124ms/step - loss: 0.0044 - val_loss: 2.3771e-04\n",
      "Epoch 14/100\n",
      "12/12 [==============================] - 1s 124ms/step - loss: 0.0047 - val_loss: 2.4789e-04\n",
      "Epoch 15/100\n",
      "12/12 [==============================] - 2s 128ms/step - loss: 0.0037 - val_loss: 5.9825e-04\n",
      "Epoch 16/100\n",
      "12/12 [==============================] - 2s 141ms/step - loss: 0.0033 - val_loss: 2.1430e-04\n",
      "Epoch 17/100\n",
      "12/12 [==============================] - 2s 135ms/step - loss: 0.0033 - val_loss: 2.9919e-04\n",
      "Epoch 18/100\n",
      "12/12 [==============================] - 1s 124ms/step - loss: 0.0031 - val_loss: 2.4175e-04\n",
      "Epoch 19/100\n",
      "12/12 [==============================] - 2s 128ms/step - loss: 0.0030 - val_loss: 4.0913e-04\n",
      "Epoch 20/100\n",
      "12/12 [==============================] - 2s 135ms/step - loss: 0.0027 - val_loss: 2.0639e-04\n",
      "Epoch 21/100\n",
      "12/12 [==============================] - 2s 126ms/step - loss: 0.0023 - val_loss: 3.1429e-04\n",
      "Epoch 22/100\n",
      "12/12 [==============================] - 1s 125ms/step - loss: 0.0029 - val_loss: 1.9286e-04\n",
      "Epoch 23/100\n",
      "12/12 [==============================] - 1s 125ms/step - loss: 0.0023 - val_loss: 2.1156e-04\n",
      "Epoch 24/100\n",
      "12/12 [==============================] - 2s 129ms/step - loss: 0.0030 - val_loss: 1.9960e-04\n",
      "Epoch 25/100\n",
      "12/12 [==============================] - 2s 127ms/step - loss: 0.0019 - val_loss: 2.0884e-04\n",
      "Epoch 26/100\n",
      "12/12 [==============================] - 1s 125ms/step - loss: 0.0021 - val_loss: 2.9831e-04\n",
      "Epoch 27/100\n",
      "12/12 [==============================] - 1s 124ms/step - loss: 0.0022 - val_loss: 1.9274e-04\n",
      "Epoch 28/100\n",
      "12/12 [==============================] - 2s 128ms/step - loss: 0.0020 - val_loss: 3.8776e-04\n",
      "Epoch 29/100\n",
      "12/12 [==============================] - 1s 126ms/step - loss: 0.0031 - val_loss: 2.2317e-04\n",
      "Epoch 30/100\n",
      "12/12 [==============================] - 1s 123ms/step - loss: 0.0025 - val_loss: 4.6919e-04\n",
      "Epoch 31/100\n",
      "12/12 [==============================] - 1s 123ms/step - loss: 0.0020 - val_loss: 2.0205e-04\n",
      "Epoch 32/100\n",
      "12/12 [==============================] - 2s 135ms/step - loss: 0.0019 - val_loss: 2.0558e-04\n",
      "Epoch 33/100\n",
      "12/12 [==============================] - 2s 131ms/step - loss: 0.0020 - val_loss: 1.9807e-04\n",
      "Epoch 34/100\n",
      "12/12 [==============================] - 2s 130ms/step - loss: 0.0019 - val_loss: 2.8120e-04\n",
      "Epoch 35/100\n",
      "12/12 [==============================] - 2s 130ms/step - loss: 0.0018 - val_loss: 2.1011e-04\n",
      "Epoch 36/100\n",
      "12/12 [==============================] - 2s 130ms/step - loss: 0.0021 - val_loss: 3.7665e-04\n",
      "Epoch 37/100\n",
      "12/12 [==============================] - 2s 128ms/step - loss: 0.0022 - val_loss: 2.2365e-04\n",
      "Epoch 38/100\n",
      "12/12 [==============================] - 1s 125ms/step - loss: 0.0021 - val_loss: 2.1985e-04\n",
      "Epoch 39/100\n",
      "12/12 [==============================] - 1s 123ms/step - loss: 0.0031 - val_loss: 2.1910e-04\n",
      "Epoch 40/100\n",
      "12/12 [==============================] - 1s 125ms/step - loss: 0.0024 - val_loss: 2.8952e-04\n",
      "Epoch 41/100\n",
      "12/12 [==============================] - 2s 132ms/step - loss: 0.0024 - val_loss: 2.5008e-04\n",
      "Epoch 42/100\n",
      "12/12 [==============================] - 2s 130ms/step - loss: 0.0035 - val_loss: 2.7879e-04\n",
      "Epoch 43/100\n",
      "12/12 [==============================] - 1s 126ms/step - loss: 0.0030 - val_loss: 4.5154e-04\n",
      "Epoch 44/100\n",
      "12/12 [==============================] - 1s 126ms/step - loss: 0.0022 - val_loss: 3.7525e-04\n",
      "Epoch 45/100\n",
      "12/12 [==============================] - 2s 139ms/step - loss: 0.0017 - val_loss: 2.2421e-04\n",
      "Epoch 46/100\n",
      "12/12 [==============================] - 2s 130ms/step - loss: 0.0017 - val_loss: 2.0384e-04\n",
      "Epoch 47/100\n",
      "12/12 [==============================] - 2s 129ms/step - loss: 0.0016 - val_loss: 2.8257e-04\n",
      "Epoch 48/100\n",
      "12/12 [==============================] - 2s 129ms/step - loss: 0.0016 - val_loss: 2.9793e-04\n",
      "Epoch 49/100\n",
      "12/12 [==============================] - 2s 129ms/step - loss: 0.0017 - val_loss: 1.9176e-04\n",
      "Epoch 50/100\n",
      "12/12 [==============================] - 2s 131ms/step - loss: 0.0020 - val_loss: 2.1160e-04\n",
      "Epoch 51/100\n",
      "12/12 [==============================] - 2s 130ms/step - loss: 0.0018 - val_loss: 3.7617e-04\n",
      "Epoch 52/100\n",
      "12/12 [==============================] - 2s 129ms/step - loss: 0.0019 - val_loss: 2.3970e-04\n",
      "Epoch 53/100\n",
      "12/12 [==============================] - 2s 129ms/step - loss: 0.0015 - val_loss: 3.0700e-04\n",
      "Epoch 54/100\n",
      "12/12 [==============================] - 2s 132ms/step - loss: 0.0015 - val_loss: 3.9729e-04\n",
      "Epoch 55/100\n",
      "12/12 [==============================] - 2s 127ms/step - loss: 0.0038 - val_loss: 2.5606e-04\n",
      "Epoch 56/100\n",
      "12/12 [==============================] - 1s 127ms/step - loss: 0.0041 - val_loss: 2.8275e-04\n",
      "Epoch 57/100\n",
      "12/12 [==============================] - 2s 135ms/step - loss: 0.0034 - val_loss: 0.0011\n",
      "Epoch 58/100\n",
      "12/12 [==============================] - 1s 126ms/step - loss: 0.0026 - val_loss: 3.9508e-04\n",
      "Epoch 59/100\n",
      "12/12 [==============================] - 1s 125ms/step - loss: 0.0021 - val_loss: 2.6664e-04\n",
      "Epoch 60/100\n",
      "12/12 [==============================] - 1s 126ms/step - loss: 0.0018 - val_loss: 2.7588e-04\n",
      "Epoch 61/100\n",
      "12/12 [==============================] - 1s 126ms/step - loss: 0.0020 - val_loss: 1.7990e-04\n",
      "Epoch 62/100\n",
      "12/12 [==============================] - 2s 129ms/step - loss: 0.0016 - val_loss: 2.5505e-04\n",
      "Epoch 63/100\n",
      "12/12 [==============================] - 2s 128ms/step - loss: 0.0012 - val_loss: 1.8857e-04\n",
      "Epoch 64/100\n",
      "12/12 [==============================] - 2s 129ms/step - loss: 0.0013 - val_loss: 2.1734e-04\n",
      "Epoch 65/100\n",
      "12/12 [==============================] - 2s 130ms/step - loss: 0.0013 - val_loss: 1.9693e-04\n",
      "Epoch 66/100\n",
      "12/12 [==============================] - 2s 128ms/step - loss: 0.0014 - val_loss: 1.9585e-04\n",
      "Epoch 67/100\n",
      "12/12 [==============================] - 2s 131ms/step - loss: 0.0014 - val_loss: 1.9147e-04\n",
      "Epoch 68/100\n",
      "12/12 [==============================] - 3s 271ms/step - loss: 0.0015 - val_loss: 2.4549e-04\n",
      "Epoch 69/100\n",
      "12/12 [==============================] - 2s 140ms/step - loss: 0.0047 - val_loss: 2.0397e-04\n",
      "Epoch 70/100\n",
      "12/12 [==============================] - 2s 132ms/step - loss: 0.0042 - val_loss: 1.7702e-04\n",
      "Epoch 71/100\n",
      "12/12 [==============================] - 2s 129ms/step - loss: 0.0033 - val_loss: 4.0536e-04\n",
      "Epoch 72/100\n",
      "12/12 [==============================] - 2s 131ms/step - loss: 0.0022 - val_loss: 2.2300e-04\n",
      "Epoch 73/100\n",
      "12/12 [==============================] - 2s 127ms/step - loss: 0.0017 - val_loss: 2.3627e-04\n",
      "Epoch 74/100\n",
      "12/12 [==============================] - 2s 130ms/step - loss: 0.0024 - val_loss: 3.3879e-04\n",
      "Epoch 75/100\n",
      "12/12 [==============================] - 2s 129ms/step - loss: 0.0017 - val_loss: 2.0153e-04\n",
      "Epoch 76/100\n"
     ]
    },
    {
     "name": "stdout",
     "output_type": "stream",
     "text": [
      "12/12 [==============================] - 2s 128ms/step - loss: 0.0016 - val_loss: 1.7870e-04\n",
      "Epoch 77/100\n",
      "12/12 [==============================] - 1s 126ms/step - loss: 0.0014 - val_loss: 1.7758e-04\n",
      "Epoch 78/100\n",
      "12/12 [==============================] - 2s 144ms/step - loss: 0.0022 - val_loss: 8.5264e-04\n",
      "Epoch 79/100\n",
      "12/12 [==============================] - 2s 189ms/step - loss: 0.0020 - val_loss: 1.8492e-04\n",
      "Epoch 80/100\n",
      "12/12 [==============================] - 2s 151ms/step - loss: 0.0019 - val_loss: 2.0495e-04\n",
      "Epoch 81/100\n",
      "12/12 [==============================] - 2s 160ms/step - loss: 0.0013 - val_loss: 2.6695e-04\n",
      "Epoch 82/100\n",
      "12/12 [==============================] - 2s 143ms/step - loss: 0.0015 - val_loss: 1.6528e-04\n",
      "Epoch 83/100\n",
      "12/12 [==============================] - 2s 144ms/step - loss: 0.0013 - val_loss: 1.7554e-04\n",
      "Epoch 84/100\n",
      "12/12 [==============================] - 2s 158ms/step - loss: 0.0010 - val_loss: 1.6686e-04\n",
      "Epoch 85/100\n",
      "12/12 [==============================] - 2s 151ms/step - loss: 0.0011 - val_loss: 1.7167e-04\n",
      "Epoch 86/100\n",
      "12/12 [==============================] - 2s 151ms/step - loss: 0.0011 - val_loss: 1.6521e-04\n",
      "Epoch 87/100\n",
      "12/12 [==============================] - 2s 147ms/step - loss: 0.0011 - val_loss: 1.6830e-04\n",
      "Epoch 88/100\n",
      "12/12 [==============================] - 2s 133ms/step - loss: 0.0012 - val_loss: 1.6458e-04\n",
      "Epoch 89/100\n",
      "12/12 [==============================] - 2s 147ms/step - loss: 0.0012 - val_loss: 1.8111e-04\n",
      "Epoch 90/100\n",
      "12/12 [==============================] - 2s 153ms/step - loss: 0.0010 - val_loss: 1.6407e-04\n",
      "Epoch 91/100\n",
      "12/12 [==============================] - 2s 160ms/step - loss: 0.0011 - val_loss: 2.2762e-04\n",
      "Epoch 92/100\n",
      "12/12 [==============================] - 2s 202ms/step - loss: 0.0012 - val_loss: 1.6288e-04\n",
      "Epoch 93/100\n",
      "12/12 [==============================] - 2s 201ms/step - loss: 0.0011 - val_loss: 1.8214e-04\n",
      "Epoch 94/100\n",
      "12/12 [==============================] - 2s 155ms/step - loss: 8.8324e-04 - val_loss: 1.6387e-04\n",
      "Epoch 95/100\n",
      "12/12 [==============================] - 2s 153ms/step - loss: 8.8850e-04 - val_loss: 1.6992e-04\n",
      "Epoch 96/100\n",
      "12/12 [==============================] - 2s 162ms/step - loss: 0.0011 - val_loss: 2.0093e-04\n",
      "Epoch 97/100\n",
      "12/12 [==============================] - 2s 164ms/step - loss: 0.0020 - val_loss: 2.4400e-04\n",
      "Epoch 98/100\n",
      "12/12 [==============================] - 2s 161ms/step - loss: 0.0018 - val_loss: 1.6367e-04\n",
      "Epoch 99/100\n",
      "12/12 [==============================] - 2s 145ms/step - loss: 0.0015 - val_loss: 1.6908e-04\n",
      "Epoch 100/100\n",
      "12/12 [==============================] - 2s 136ms/step - loss: 0.0016 - val_loss: 1.6821e-04\n"
     ]
    },
    {
     "data": {
      "text/plain": [
       "<keras.src.callbacks.History at 0x14f065c4ed0>"
      ]
     },
     "execution_count": 43,
     "metadata": {},
     "output_type": "execute_result"
    }
   ],
   "source": [
    "model.fit(X_train, y_train, validation_data=(X_test, y_test), epochs=100, batch_size=64, verbose=1)\n"
   ]
  },
  {
   "cell_type": "code",
   "execution_count": 44,
   "id": "8d84656e",
   "metadata": {},
   "outputs": [],
   "source": [
    "import tensorflow as tf"
   ]
  },
  {
   "cell_type": "code",
   "execution_count": 46,
   "id": "cc0651b7",
   "metadata": {
    "scrolled": true
   },
   "outputs": [
    {
     "name": "stdout",
     "output_type": "stream",
     "text": [
      "23/23 [==============================] - 1s 25ms/step\n",
      "11/11 [==============================] - 0s 26ms/step\n"
     ]
    }
   ],
   "source": [
    "train_predict = model.predict(X_train)\n",
    "test_predict = model.predict(X_test)"
   ]
  },
  {
   "cell_type": "code",
   "execution_count": 47,
   "id": "507025d3",
   "metadata": {},
   "outputs": [],
   "source": [
    "# transform the data present to its original form - reverse sacling of the data present\n",
    "\n",
    "train_predict = scaler.inverse_transform(train_predict)\n",
    "test_predict = scaler.inverse_transform(test_predict)\n"
   ]
  },
  {
   "cell_type": "markdown",
   "id": "d84114d5",
   "metadata": {},
   "source": [
    "ROOT MEAN SQUARED PERFORMANCE MATRIX"
   ]
  },
  {
   "cell_type": "code",
   "execution_count": 48,
   "id": "542b5160",
   "metadata": {},
   "outputs": [
    {
     "data": {
      "text/plain": [
       "221.53674914397712"
      ]
     },
     "execution_count": 48,
     "metadata": {},
     "output_type": "execute_result"
    }
   ],
   "source": [
    "import math\n",
    "from sklearn.metrics import mean_squared_error\n",
    "math.sqrt(mean_squared_error(y_train , train_predict))"
   ]
  },
  {
   "cell_type": "code",
   "execution_count": 49,
   "id": "d729dbbf",
   "metadata": {},
   "outputs": [
    {
     "data": {
      "text/plain": [
       "168.9084775527975"
      ]
     },
     "execution_count": 49,
     "metadata": {},
     "output_type": "execute_result"
    }
   ],
   "source": [
    "math.sqrt(mean_squared_error(y_test , test_predict))"
   ]
  },
  {
   "cell_type": "markdown",
   "id": "526ac7ce",
   "metadata": {},
   "source": [
    "                                              PLOT"
   ]
  },
  {
   "cell_type": "markdown",
   "id": "91ed25ed",
   "metadata": {},
   "source": [
    "Blue - The original data of the dataset"
   ]
  },
  {
   "cell_type": "markdown",
   "id": "75def2f4",
   "metadata": {},
   "source": [
    "Yellow - Training dataset"
   ]
  },
  {
   "cell_type": "markdown",
   "id": "6a8932b9",
   "metadata": {},
   "source": [
    "Green - Test dataset\n"
   ]
  },
  {
   "cell_type": "code",
   "execution_count": 53,
   "id": "38bde699",
   "metadata": {},
   "outputs": [
    {
     "data": {
      "image/png": "[encoded data removed]",
      "text/plain": [
       "<Figure size 640x480 with 1 Axes>"
      ]
     },
     "metadata": {},
     "output_type": "display_data"
    }
   ],
   "source": [
    "look_back = 100\n",
    "\n",
    "\n",
    "trainPredictPlot = np.empty_like(df1)\n",
    "trainPredictPlot[:] = np.nan\n",
    "testPredictPlot = np.empty_like(df1)\n",
    "testPredictPlot[:] = np.nan\n",
    "\n",
    "\n",
    "trainPredictPlot[look_back:len(train_predict) + look_back, :] = train_predict\n",
    "\n",
    "testPredictPlot[len(train_predict) + (look_back*2) + 1:len(df1) - 1, :] = test_predict\n",
    "\n",
    "\n",
    "plt.plot(scaler.inverse_transform(df1))\n",
    "plt.plot(trainPredictPlot)\n",
    "plt.plot(testPredictPlot)\n",
    "plt.show()\n"
   ]
  },
  {
   "cell_type": "code",
   "execution_count": 54,
   "id": "7bcd6559",
   "metadata": {},
   "outputs": [
    {
     "data": {
      "text/plain": [
       "(1, 100)"
      ]
     },
     "execution_count": 54,
     "metadata": {},
     "output_type": "execute_result"
    }
   ],
   "source": [
    "x_input = test_data[341:].reshape(1,-1)\n",
    "x_input.shape"
   ]
  },
  {
   "cell_type": "code",
   "execution_count": null,
   "id": "eb3018cf",
   "metadata": {},
   "outputs": [],
   "source": [
    "x_input = test_data[341:].reshape(1,-1)"
   ]
  },
  {
   "cell_type": "code",
   "execution_count": 55,
   "id": "8526721d",
   "metadata": {},
   "outputs": [],
   "source": [
    "temp_input=list(x_input)\n",
    "temp_input=temp_input[0].tolist()"
   ]
  },
  {
   "cell_type": "code",
   "execution_count": 57,
   "id": "ee8558bd",
   "metadata": {},
   "outputs": [
    {
     "data": {
      "text/plain": [
       "[0.20753913587977452,\n",
       " 0.19053224796493418,\n",
       " 0.1771321227301189,\n",
       " 0.17868503443957418,\n",
       " 0.18164057608015027,\n",
       " 0.17397620538509706,\n",
       " 0.16874139010644956,\n",
       " 0.17257357545397617,\n",
       " 0.17074514715090788,\n",
       " 0.17815904821540385,\n",
       " 0.18091421415153408,\n",
       " 0.17194740137758296,\n",
       " 0.16804007514088914,\n",
       " 0.17019411396368184,\n",
       " 0.173425172197871,\n",
       " 0.16310582341891044,\n",
       " 0.15927363807138384,\n",
       " 0.15992485911083276,\n",
       " 0.16122730118973072,\n",
       " 0.16758922980588598,\n",
       " 0.16420788979336254,\n",
       " 0.1673638071383844,\n",
       " 0.17049467752035058,\n",
       " 0.17695679398872882,\n",
       " 0.18071383844708827,\n",
       " 0.17921102066374445,\n",
       " 0.18274264245460237,\n",
       " 0.1850219160926737,\n",
       " 0.18036318096430803,\n",
       " 0.18003757044458357,\n",
       " 0.17610519724483403,\n",
       " 0.17282404508453347,\n",
       " 0.17187226048841575,\n",
       " 0.1654101440200375,\n",
       " 0.1657107075767063,\n",
       " 0.1668127739511584,\n",
       " 0.16095178459611764,\n",
       " 0.15040701314965554,\n",
       " 0.1537382592360676,\n",
       " 0.15892298058860355,\n",
       " 0.16012523481527863,\n",
       " 0.16814026299311202,\n",
       " 0.17715716969317463,\n",
       " 0.17485284909204757,\n",
       " 0.1813149655604257,\n",
       " 0.18780212899185966,\n",
       " 0.19048215403882274,\n",
       " 0.1892798998121477,\n",
       " 0.19927363807138382,\n",
       " 0.19526612398246712,\n",
       " 0.20187852222917968,\n",
       " 0.20330619912335623,\n",
       " 0.2075641828428303,\n",
       " 0.2075140889167188,\n",
       " 0.21192235441452717,\n",
       " 0.20989355040701307,\n",
       " 0.211571696931747,\n",
       " 0.20821540388227922,\n",
       " 0.2077645585472761,\n",
       " 0.2092924232936756,\n",
       " 0.20671258609893545,\n",
       " 0.20816530995616772,\n",
       " 0.2113963681903569,\n",
       " 0.20686286787726987,\n",
       " 0.21685660613650587,\n",
       " 0.21410144020037564,\n",
       " 0.21898559799624295,\n",
       " 0.22259236067626798,\n",
       " 0.21625547902316838,\n",
       " 0.22008766437069505,\n",
       " 0.2282279273638071,\n",
       " 0.22860363180964305,\n",
       " 0.2272510958046336,\n",
       " 0.22304320601127103,\n",
       " 0.22567313713212267,\n",
       " 0.2203882279273638,\n",
       " 0.22001252348152783,\n",
       " 0.21730745147150904,\n",
       " 0.21592986850344392,\n",
       " 0.21618033813400123,\n",
       " 0.2172573575453976,\n",
       " 0.21462742642454596,\n",
       " 0.19737006887914832,\n",
       " 0.19388854101440195,\n",
       " 0.18802755165936125,\n",
       " 0.18619912335629302,\n",
       " 0.1971696931747025,\n",
       " 0.19611772072636185,\n",
       " 0.1987476518472135,\n",
       " 0.19724483406386972,\n",
       " 0.19807138384470874,\n",
       " 0.19233562930494674,\n",
       " 0.18995616781465247,\n",
       " 0.20485911083281144,\n",
       " 0.21219787100814025,\n",
       " 0.21803381340012518,\n",
       " 0.2212648716343143,\n",
       " 0.21956167814652466,\n",
       " 0.2187351283656856,\n",
       " 0.21435190983093294]"
      ]
     },
     "execution_count": 57,
     "metadata": {},
     "output_type": "execute_result"
    }
   ],
   "source": [
    "temp_input"
   ]
  },
  {
   "cell_type": "code",
   "execution_count": 61,
   "id": "1e336972",
   "metadata": {},
   "outputs": [
    {
     "name": "stdout",
     "output_type": "stream",
     "text": [
      "[[0.2229842096567154], [0.22325043380260468], [0.22351396083831787], [0.2237745076417923], [0.22403191030025482], [0.22428621351718903], [0.22453752160072327], [0.22478599846363068], [0.22503189742565155], [0.22527554631233215], [0.22551719844341278], [0.2257571965456009], [0.22599588334560394], [0.22623346745967865], [0.22647029161453247], [0.22670665383338928], [0.2269427329301834], [0.2271786332130432], [0.22741462290287018], [0.22765077650547028], [0.22788724303245544], [0.2281239926815033], [0.22836120426654816], [0.22859878838062286], [0.22883684933185577], [0.22907531261444092], [0.2293141931295395], [0.2295534461736679], [0.2297929972410202], [0.23003289103507996]]\n"
     ]
    }
   ],
   "source": [
    "from numpy import array\n",
    "\n",
    "lst_output = []\n",
    "n_steps = 100\n",
    "i = 0\n",
    "\n",
    "while i < 30:\n",
    "    if len(temp_input) > 100:\n",
    "        x_input = array(temp_input[1:]).reshape(1, -1, 1)\n",
    "    else:\n",
    "        x_input = x_input.reshape((1, n_steps, 1))\n",
    "        \n",
    "    yhat = model.predict(x_input, verbose=0)\n",
    "    temp_input.extend(yhat[0].tolist())\n",
    "    temp_input = temp_input[1:]\n",
    "    lst_output.extend(yhat.tolist())\n",
    "    i += 1\n",
    "\n",
    "print(lst_output)\n"
   ]
  },
  {
   "cell_type": "code",
   "execution_count": 62,
   "id": "eb0419d3",
   "metadata": {},
   "outputs": [],
   "source": [
    "day_new=np.arange(1,101)\n",
    "day_pred=np.arange(101,131)"
   ]
  },
  {
   "cell_type": "code",
   "execution_count": 63,
   "id": "22685fe7",
   "metadata": {},
   "outputs": [
    {
     "data": {
      "text/plain": [
       "1258"
      ]
     },
     "execution_count": 63,
     "metadata": {},
     "output_type": "execute_result"
    }
   ],
   "source": [
    "len(df1)"
   ]
  },
  {
   "cell_type": "code",
   "execution_count": 64,
   "id": "e4a17262",
   "metadata": {},
   "outputs": [
    {
     "data": {
      "text/plain": [
       "[<matplotlib.lines.Line2D at 0x14f067a3290>]"
      ]
     },
     "execution_count": 64,
     "metadata": {},
     "output_type": "execute_result"
    },
    {
     "data": {
      "image/png": "[encoded data removed]",
      "text/plain": [
       "<Figure size 640x480 with 1 Axes>"
      ]
     },
     "metadata": {},
     "output_type": "display_data"
    }
   ],
   "source": [
    "plt.plot(day_new,scaler.inverse_transform(df1[1158:]))\n",
    "plt.plot(day_pred,scaler.inverse_transform(lst_output))"
   ]
  },
  {
   "cell_type": "code",
   "execution_count": 65,
   "id": "37a71ecb",
   "metadata": {},
   "outputs": [
    {
     "data": {
      "text/plain": [
       "[<matplotlib.lines.Line2D at 0x14f06638250>]"
      ]
     },
     "execution_count": 65,
     "metadata": {},
     "output_type": "execute_result"
    },
    {
     "data": {
      "image/png": "[encoded data removed]",
      "text/plain": [
       "<Figure size 640x480 with 1 Axes>"
      ]
     },
     "metadata": {},
     "output_type": "display_data"
    }
   ],
   "source": [
    "df3=df1.tolist()\n",
    "df3.extend(lst_output)\n",
    "plt.plot(df3[1200:])"
   ]
  },
  {
   "cell_type": "code",
   "execution_count": 67,
   "id": "52496082",
   "metadata": {},
   "outputs": [
    {
     "data": {
      "text/plain": [
       "[<matplotlib.lines.Line2D at 0x14f1276b5d0>]"
      ]
     },
     "execution_count": 67,
     "metadata": {},
     "output_type": "execute_result"
    },
    {
     "data": {
      "image/png": "[encoded data removed]",
      "text/plain": [
       "<Figure size 640x480 with 1 Axes>"
      ]
     },
     "metadata": {},
     "output_type": "display_data"
    }
   ],
   "source": [
    "df3=scaler.inverse_transform(df3).tolist()\n",
    "plt.plot(df3)"
   ]
  }
 ],
 "metadata": {
  "kernelspec": {
   "display_name": "Python 3 (ipykernel)",
   "language": "python",
   "name": "python3"
  },
  "language_info": {
   "codemirror_mode": {
    "name": "ipython",
    "version": 3
   },
   "file_extension": ".py",
   "mimetype": "text/x-python",
   "name": "python",
   "nbconvert_exporter": "python",
   "pygments_lexer": "ipython3",
   "version": "3.11.4"
  }
 },
 "nbformat": 4,
 "nbformat_minor": 5
}
